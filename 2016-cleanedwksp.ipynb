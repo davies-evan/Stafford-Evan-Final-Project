{
 "cells": [
  {
   "cell_type": "code",
   "execution_count": 15,
   "metadata": {},
   "outputs": [],
   "source": [
    "library(stringr)\n",
    "\n",
    "library(dplyr)\n",
    "\n",
    "library(ggplot2)\n",
    "\n",
    "library(lubridate)\n",
    "\n",
    "sixteen_df2 <- read.csv(\"sqf-2016.csv\")"
   ]
  },
  {
   "cell_type": "code",
   "execution_count": 16,
   "metadata": {},
   "outputs": [],
   "source": [
    "sixteen_df2 <- filter(sixteen_df2, sixteen_df2$city != \" \")\n",
    "\n",
    "sixteen_df2 <- filter(sixteen_df2, sixteen_df2$race != \" \")"
   ]
  },
  {
   "cell_type": "code",
   "execution_count": 19,
   "metadata": {},
   "outputs": [],
   "source": [
    "sixteen_df2$datestop <- mdy(sixteen_df2$datestop)"
   ]
  },
  {
   "cell_type": "code",
   "execution_count": 24,
   "metadata": {},
   "outputs": [],
   "source": [
    "quantconvert <- function(v) {\n",
    "    n <- length(v)\n",
    "    column <- rep(0, n)\n",
    "    \n",
    "    for (i in 1:n) {\n",
    "        if (v[i] == \"Y\") {\n",
    "            column[i] <- 1\n",
    "        }\n",
    "        else if (v[i] == \"N\"){\n",
    "            column[i] <- 0\n",
    "        }\n",
    "    }\n",
    "    return(column)\n",
    "}\n",
    "\n",
    "sixteen_df2$arstmade_num <- quantconvert(sixteen_df2$arstmade)"
   ]
  },
  {
   "cell_type": "code",
   "execution_count": 26,
   "metadata": {},
   "outputs": [
    {
     "data": {
      "text/plain": [
       "\n",
       "Call:\n",
       "glm(formula = arstmade_num ~ city, family = \"binomial\", data = sixteen_df2)\n",
       "\n",
       "Deviance Residuals: \n",
       "    Min       1Q   Median       3Q      Max  \n",
       "-0.7701  -0.7146  -0.6832  -0.6204   1.8669  \n",
       "\n",
       "Coefficients:\n",
       "              Estimate Std. Error z value Pr(>|z|)    \n",
       "(Intercept)   -1.06367    0.04617 -23.037  < 2e-16 ***\n",
       "cityBROOKLYN  -0.27246    0.06194  -4.399 1.09e-05 ***\n",
       "cityMANHATTAN -0.17104    0.06640  -2.576  0.00999 ** \n",
       "cityQUEENS    -0.48649    0.06546  -7.432 1.07e-13 ***\n",
       "citySTATEN IS -0.22589    0.10572  -2.137  0.03262 *  \n",
       "---\n",
       "Signif. codes:  0 ‘***’ 0.001 ‘**’ 0.01 ‘*’ 0.05 ‘.’ 0.1 ‘ ’ 1\n",
       "\n",
       "(Dispersion parameter for binomial family taken to be 1)\n",
       "\n",
       "    Null deviance: 12851  on 12403  degrees of freedom\n",
       "Residual deviance: 12792  on 12399  degrees of freedom\n",
       "AIC: 12802\n",
       "\n",
       "Number of Fisher Scoring iterations: 4\n"
      ]
     },
     "metadata": {},
     "output_type": "display_data"
    }
   ],
   "source": [
    "sixteen_df2$arstmade_num <- factor(sixteen_df2$arstmade_num)\n",
    "\n",
    "city_arstmade2 <- glm(arstmade_num ~ city, data = sixteen_df2, family = \"binomial\")\n",
    "\n",
    "summary(city_arstmade2)"
   ]
  },
  {
   "cell_type": "code",
   "execution_count": 27,
   "metadata": {},
   "outputs": [
    {
     "data": {
      "text/plain": [
       "\n",
       "Call:\n",
       "glm(formula = arstmade_num ~ race, family = \"binomial\", data = sixteen_df2)\n",
       "\n",
       "Deviance Residuals: \n",
       "    Min       1Q   Median       3Q      Max  \n",
       "-0.7717  -0.6798  -0.6693  -0.5907   1.9479  \n",
       "\n",
       "Coefficients:\n",
       "            Estimate Std. Error z value Pr(>|z|)    \n",
       "(Intercept) -1.65742    0.10045 -16.500  < 2e-16 ***\n",
       "raceB        0.27535    0.10512   2.620 0.008806 ** \n",
       "raceI       -0.01656    0.45608  -0.036 0.971043    \n",
       "raceP        0.43750    0.12884   3.396 0.000684 ***\n",
       "raceQ        0.59861    0.10950   5.467 4.58e-08 ***\n",
       "raceU        0.57279    0.25660   2.232 0.025596 *  \n",
       "raceW        0.31004    0.12206   2.540 0.011084 *  \n",
       "raceZ       -0.07718    0.25712  -0.300 0.764049    \n",
       "---\n",
       "Signif. codes:  0 ‘***’ 0.001 ‘**’ 0.01 ‘*’ 0.05 ‘.’ 0.1 ‘ ’ 1\n",
       "\n",
       "(Dispersion parameter for binomial family taken to be 1)\n",
       "\n",
       "    Null deviance: 12851  on 12403  degrees of freedom\n",
       "Residual deviance: 12794  on 12396  degrees of freedom\n",
       "AIC: 12810\n",
       "\n",
       "Number of Fisher Scoring iterations: 4\n"
      ]
     },
     "metadata": {},
     "output_type": "display_data"
    }
   ],
   "source": [
    "sixteen_df2$arstmade_num <- factor(sixteen_df2$arstmade_num)\n",
    "\n",
    "race_arstmade2 <- glm(arstmade_num ~ race, data = sixteen_df2, family = \"binomial\")\n",
    "\n",
    "summary(race_arstmade2)"
   ]
  },
  {
   "cell_type": "code",
   "execution_count": 28,
   "metadata": {},
   "outputs": [
    {
     "data": {
      "text/html": [
       "<style>\n",
       ".list-inline {list-style: none; margin:0; padding: 0}\n",
       ".list-inline>li {display: inline-block}\n",
       ".list-inline>li:not(:last-child)::after {content: \"\\00b7\"; padding: 0 .5ex}\n",
       "</style>\n",
       "<ol class=list-inline><li>'B'</li><li>'W'</li><li>'P'</li><li>'A'</li><li>'Q'</li><li>'U'</li><li>'Z'</li><li>'I'</li></ol>\n"
      ],
      "text/latex": [
       "\\begin{enumerate*}\n",
       "\\item 'B'\n",
       "\\item 'W'\n",
       "\\item 'P'\n",
       "\\item 'A'\n",
       "\\item 'Q'\n",
       "\\item 'U'\n",
       "\\item 'Z'\n",
       "\\item 'I'\n",
       "\\end{enumerate*}\n"
      ],
      "text/markdown": [
       "1. 'B'\n",
       "2. 'W'\n",
       "3. 'P'\n",
       "4. 'A'\n",
       "5. 'Q'\n",
       "6. 'U'\n",
       "7. 'Z'\n",
       "8. 'I'\n",
       "\n",
       "\n"
      ],
      "text/plain": [
       "[1] \"B\" \"W\" \"P\" \"A\" \"Q\" \"U\" \"Z\" \"I\""
      ]
     },
     "metadata": {},
     "output_type": "display_data"
    }
   ],
   "source": [
    "unique(sixteen_df2$race)"
   ]
  },
  {
   "cell_type": "code",
   "execution_count": 29,
   "metadata": {},
   "outputs": [
    {
     "data": {
      "text/plain": [
       "\n",
       "   A    B    I    P    Q    U    W    Z \n",
       " 737 6498   38  873 2753   95 1270  140 "
      ]
     },
     "metadata": {},
     "output_type": "display_data"
    }
   ],
   "source": [
    "table(sixteen_df2$race)"
   ]
  },
  {
   "cell_type": "code",
   "execution_count": null,
   "metadata": {},
   "outputs": [],
   "source": []
  }
 ],
 "metadata": {
  "kernelspec": {
   "display_name": "R",
   "language": "R",
   "name": "ir"
  },
  "language_info": {
   "codemirror_mode": "r",
   "file_extension": ".r",
   "mimetype": "text/x-r-source",
   "name": "R",
   "pygments_lexer": "r",
   "version": "4.0.0"
  }
 },
 "nbformat": 4,
 "nbformat_minor": 4
}
