{
 "cells": [
  {
   "cell_type": "code",
   "execution_count": 1,
   "metadata": {},
   "outputs": [
    {
     "name": "stderr",
     "output_type": "stream",
     "text": [
      "Warning message:\n",
      "“package ‘dplyr’ was built under R version 4.0.2”\n",
      "\n",
      "Attaching package: ‘dplyr’\n",
      "\n",
      "\n",
      "The following objects are masked from ‘package:stats’:\n",
      "\n",
      "    filter, lag\n",
      "\n",
      "\n",
      "The following objects are masked from ‘package:base’:\n",
      "\n",
      "    intersect, setdiff, setequal, union\n",
      "\n",
      "\n"
     ]
    }
   ],
   "source": [
    "library(stringr)\n",
    "\n",
    "library(dplyr)\n",
    "\n",
    "ten_df <- read.csv(\"2010.csv\")"
   ]
  },
  {
   "cell_type": "code",
   "execution_count": 2,
   "metadata": {},
   "outputs": [],
   "source": [
    "ten_df <- filter(ten_df, ten_df$city != \" \")\n",
    "\n",
    "ten_df <- filter(ten_df, ten_df$race != \" \")\n",
    "\n",
    "#conversion for race 2010\n",
    "\n",
    "#precinct both\n",
    "\n",
    "#combined both"
   ]
  },
  {
   "cell_type": "code",
   "execution_count": 3,
   "metadata": {},
   "outputs": [],
   "source": [
    "\n",
    "quantconvert <- function(v) {\n",
    "    n <- length(v)\n",
    "    column <- rep(0, n)\n",
    "    \n",
    "    for (i in 1:n) {\n",
    "        if (v[i] == \"Y\") {\n",
    "            column[i] <- 1\n",
    "        }\n",
    "        else if (v[i] == \"N\"){\n",
    "            column[i] <- 0\n",
    "        }\n",
    "    }\n",
    "    return(column)\n",
    "}\n",
    "\n",
    "ten_df$arstmade_num <- quantconvert(ten_df$arstmade)"
   ]
  },
  {
   "cell_type": "code",
   "execution_count": 5,
   "metadata": {},
   "outputs": [
    {
     "data": {
      "text/plain": [
       "\n",
       "Call:\n",
       "glm(formula = arstmade_num ~ race, family = \"binomial\", data = ten_df)\n",
       "\n",
       "Deviance Residuals: \n",
       "    Min       1Q   Median       3Q      Max  \n",
       "-0.4040  -0.3762  -0.3762  -0.3753   2.4572  \n",
       "\n",
       "Coefficients:\n",
       "             Estimate Std. Error z value Pr(>|z|)    \n",
       "(Intercept) -2.634559   0.028484 -92.494  < 2e-16 ***\n",
       "raceB        0.021731   0.029346   0.741 0.458989    \n",
       "raceI       -0.334226   0.095679  -3.493 0.000477 ***\n",
       "raceP        0.169977   0.034193   4.971 6.66e-07 ***\n",
       "raceQ        0.016725   0.030267   0.553 0.580556    \n",
       "raceU       -0.048751   0.067920  -0.718 0.472903    \n",
       "raceW        0.008218   0.033187   0.248 0.804418    \n",
       "raceZ       -0.196450   0.045275  -4.339 1.43e-05 ***\n",
       "---\n",
       "Signif. codes:  0 ‘***’ 0.001 ‘**’ 0.01 ‘*’ 0.05 ‘.’ 0.1 ‘ ’ 1\n",
       "\n",
       "(Dispersion parameter for binomial family taken to be 1)\n",
       "\n",
       "    Null deviance: 299749  on 601224  degrees of freedom\n",
       "Residual deviance: 299629  on 601217  degrees of freedom\n",
       "AIC: 299645\n",
       "\n",
       "Number of Fisher Scoring iterations: 5\n"
      ]
     },
     "metadata": {},
     "output_type": "display_data"
    }
   ],
   "source": [
    "\n",
    "ten_df$arstmade_num <- factor(ten_df$arstmade_num)\n",
    "\n",
    "race_arstmade <- glm(arstmade_num ~ race, data = ten_df, family = \"binomial\")\n",
    "\n",
    "summary(race_arstmade)"
   ]
  },
  {
   "cell_type": "code",
   "execution_count": 5,
   "metadata": {},
   "outputs": [],
   "source": [
    "logit2prob <- function(logit){\n",
    "    odds <- exp(logit)\n",
    "    prob <- odds / (1 + odds)\n",
    "    return(prob)\n",
    "}\n",
    "\n"
   ]
  },
  {
   "cell_type": "code",
   "execution_count": null,
   "metadata": {},
   "outputs": [],
   "source": [
    "ten_df$arstmade_num <- factor(ten_df$arstmade_num)\n",
    "\n",
    "race_city_arstmade <- glm(arstmade_num ~ race + city + race*city, data = ten_df, family = \"binomial\")\n",
    "\n",
    "summary(race_city_arstmade)"
   ]
  },
  {
   "cell_type": "code",
   "execution_count": 11,
   "metadata": {},
   "outputs": [
    {
     "data": {
      "text/html": [
       "<style>\n",
       ".dl-inline {width: auto; margin:0; padding: 0}\n",
       ".dl-inline>dt, .dl-inline>dd {float: none; width: auto; display: inline-block}\n",
       ".dl-inline>dt::after {content: \":\\0020\"; padding-right: .5ex}\n",
       ".dl-inline>dt:not(:first-of-type) {padding-left: .5ex}\n",
       "</style><dl class=dl-inline><dt>(Intercept)</dt><dd>0.0987804878048803</dd><dt>raceB</dt><dd>0.443253040083746</dd><dt>raceI</dt><dd>0.312443088631574</dd><dt>raceP</dt><dd>0.445107158509386</dd><dt>raceQ</dt><dd>0.434590200069606</dd><dt>raceU</dt><dd>0.373181383957084</dd><dt>raceW</dt><dd>0.455088715432571</dd><dt>raceZ</dt><dd>0.358342991086539</dd><dt>cityBROOKLYN</dt><dd>0.35452146812571</dd><dt>cityMANHATTAN</dt><dd>0.495010527991831</dd><dt>cityQUEENS</dt><dd>0.3796728288402</dd><dt>citySTATEN IS</dt><dd>0.178465234891997</dd><dt>raceB:cityBROOKLYN</dt><dd>0.50797597226416</dd><dt>raceI:cityBROOKLYN</dt><dd>0.640448049373347</dd><dt>raceP:cityBROOKLYN</dt><dd>0.590470166320184</dd><dt>raceQ:cityBROOKLYN</dt><dd>0.581325275862126</dd><dt>raceU:cityBROOKLYN</dt><dd>0.56124967571296</dd><dt>raceW:cityBROOKLYN</dt><dd>0.554882490923728</dd><dt>raceZ:cityBROOKLYN</dt><dd>0.540378861750399</dd><dt>raceB:cityMANHATTAN</dt><dd>0.559784930712292</dd><dt>raceI:cityMANHATTAN</dt><dd>0.664417511837932</dd><dt>raceP:cityMANHATTAN</dt><dd>0.566374239300657</dd><dt>raceQ:cityMANHATTAN</dt><dd>0.563950300954387</dd><dt>raceU:cityMANHATTAN</dt><dd>0.660975917267053</dd><dt>raceW:cityMANHATTAN</dt><dd>0.546456392007182</dd><dt>raceZ:cityMANHATTAN</dt><dd>0.58491418094439</dd><dt>raceB:cityQUEENS</dt><dd>0.597836211126828</dd><dt>raceI:cityQUEENS</dt><dd>0.583612839961589</dd><dt>raceP:cityQUEENS</dt><dd>0.533686637104576</dd><dt>raceQ:cityQUEENS</dt><dd>0.505675570504757</dd><dt>raceU:cityQUEENS</dt><dd>0.623190304661888</dd><dt>raceW:cityQUEENS</dt><dd>0.556303949615359</dd><dt>raceZ:cityQUEENS</dt><dd>0.564590802819349</dd><dt>raceB:citySTATEN IS</dt><dd>0.764520092679993</dd><dt>raceI:citySTATEN IS</dt><dd>0.811272307999614</dd><dt>raceP:citySTATEN IS</dt><dd>0.69966132559952</dd><dt>raceQ:citySTATEN IS</dt><dd>0.7795136159161</dd><dt>raceU:citySTATEN IS</dt><dd>0.641850124525375</dd><dt>raceW:citySTATEN IS</dt><dd>0.684016374479954</dd><dt>raceZ:citySTATEN IS</dt><dd>0.784332397020561</dd></dl>\n"
      ],
      "text/latex": [
       "\\begin{description*}\n",
       "\\item[(Intercept)] 0.0987804878048803\n",
       "\\item[raceB] 0.443253040083746\n",
       "\\item[raceI] 0.312443088631574\n",
       "\\item[raceP] 0.445107158509386\n",
       "\\item[raceQ] 0.434590200069606\n",
       "\\item[raceU] 0.373181383957084\n",
       "\\item[raceW] 0.455088715432571\n",
       "\\item[raceZ] 0.358342991086539\n",
       "\\item[cityBROOKLYN] 0.35452146812571\n",
       "\\item[cityMANHATTAN] 0.495010527991831\n",
       "\\item[cityQUEENS] 0.3796728288402\n",
       "\\item[citySTATEN IS] 0.178465234891997\n",
       "\\item[raceB:cityBROOKLYN] 0.50797597226416\n",
       "\\item[raceI:cityBROOKLYN] 0.640448049373347\n",
       "\\item[raceP:cityBROOKLYN] 0.590470166320184\n",
       "\\item[raceQ:cityBROOKLYN] 0.581325275862126\n",
       "\\item[raceU:cityBROOKLYN] 0.56124967571296\n",
       "\\item[raceW:cityBROOKLYN] 0.554882490923728\n",
       "\\item[raceZ:cityBROOKLYN] 0.540378861750399\n",
       "\\item[raceB:cityMANHATTAN] 0.559784930712292\n",
       "\\item[raceI:cityMANHATTAN] 0.664417511837932\n",
       "\\item[raceP:cityMANHATTAN] 0.566374239300657\n",
       "\\item[raceQ:cityMANHATTAN] 0.563950300954387\n",
       "\\item[raceU:cityMANHATTAN] 0.660975917267053\n",
       "\\item[raceW:cityMANHATTAN] 0.546456392007182\n",
       "\\item[raceZ:cityMANHATTAN] 0.58491418094439\n",
       "\\item[raceB:cityQUEENS] 0.597836211126828\n",
       "\\item[raceI:cityQUEENS] 0.583612839961589\n",
       "\\item[raceP:cityQUEENS] 0.533686637104576\n",
       "\\item[raceQ:cityQUEENS] 0.505675570504757\n",
       "\\item[raceU:cityQUEENS] 0.623190304661888\n",
       "\\item[raceW:cityQUEENS] 0.556303949615359\n",
       "\\item[raceZ:cityQUEENS] 0.564590802819349\n",
       "\\item[raceB:citySTATEN IS] 0.764520092679993\n",
       "\\item[raceI:citySTATEN IS] 0.811272307999614\n",
       "\\item[raceP:citySTATEN IS] 0.69966132559952\n",
       "\\item[raceQ:citySTATEN IS] 0.7795136159161\n",
       "\\item[raceU:citySTATEN IS] 0.641850124525375\n",
       "\\item[raceW:citySTATEN IS] 0.684016374479954\n",
       "\\item[raceZ:citySTATEN IS] 0.784332397020561\n",
       "\\end{description*}\n"
      ],
      "text/markdown": [
       "(Intercept)\n",
       ":   0.0987804878048803raceB\n",
       ":   0.443253040083746raceI\n",
       ":   0.312443088631574raceP\n",
       ":   0.445107158509386raceQ\n",
       ":   0.434590200069606raceU\n",
       ":   0.373181383957084raceW\n",
       ":   0.455088715432571raceZ\n",
       ":   0.358342991086539cityBROOKLYN\n",
       ":   0.35452146812571cityMANHATTAN\n",
       ":   0.495010527991831cityQUEENS\n",
       ":   0.3796728288402citySTATEN IS\n",
       ":   0.178465234891997raceB:cityBROOKLYN\n",
       ":   0.50797597226416raceI:cityBROOKLYN\n",
       ":   0.640448049373347raceP:cityBROOKLYN\n",
       ":   0.590470166320184raceQ:cityBROOKLYN\n",
       ":   0.581325275862126raceU:cityBROOKLYN\n",
       ":   0.56124967571296raceW:cityBROOKLYN\n",
       ":   0.554882490923728raceZ:cityBROOKLYN\n",
       ":   0.540378861750399raceB:cityMANHATTAN\n",
       ":   0.559784930712292raceI:cityMANHATTAN\n",
       ":   0.664417511837932raceP:cityMANHATTAN\n",
       ":   0.566374239300657raceQ:cityMANHATTAN\n",
       ":   0.563950300954387raceU:cityMANHATTAN\n",
       ":   0.660975917267053raceW:cityMANHATTAN\n",
       ":   0.546456392007182raceZ:cityMANHATTAN\n",
       ":   0.58491418094439raceB:cityQUEENS\n",
       ":   0.597836211126828raceI:cityQUEENS\n",
       ":   0.583612839961589raceP:cityQUEENS\n",
       ":   0.533686637104576raceQ:cityQUEENS\n",
       ":   0.505675570504757raceU:cityQUEENS\n",
       ":   0.623190304661888raceW:cityQUEENS\n",
       ":   0.556303949615359raceZ:cityQUEENS\n",
       ":   0.564590802819349raceB:citySTATEN IS\n",
       ":   0.764520092679993raceI:citySTATEN IS\n",
       ":   0.811272307999614raceP:citySTATEN IS\n",
       ":   0.69966132559952raceQ:citySTATEN IS\n",
       ":   0.7795136159161raceU:citySTATEN IS\n",
       ":   0.641850124525375raceW:citySTATEN IS\n",
       ":   0.684016374479954raceZ:citySTATEN IS\n",
       ":   0.784332397020561\n",
       "\n"
      ],
      "text/plain": [
       "        (Intercept)               raceB               raceI               raceP \n",
       "         0.09878049          0.44325304          0.31244309          0.44510716 \n",
       "              raceQ               raceU               raceW               raceZ \n",
       "         0.43459020          0.37318138          0.45508872          0.35834299 \n",
       "       cityBROOKLYN       cityMANHATTAN          cityQUEENS       citySTATEN IS \n",
       "         0.35452147          0.49501053          0.37967283          0.17846523 \n",
       " raceB:cityBROOKLYN  raceI:cityBROOKLYN  raceP:cityBROOKLYN  raceQ:cityBROOKLYN \n",
       "         0.50797597          0.64044805          0.59047017          0.58132528 \n",
       " raceU:cityBROOKLYN  raceW:cityBROOKLYN  raceZ:cityBROOKLYN raceB:cityMANHATTAN \n",
       "         0.56124968          0.55488249          0.54037886          0.55978493 \n",
       "raceI:cityMANHATTAN raceP:cityMANHATTAN raceQ:cityMANHATTAN raceU:cityMANHATTAN \n",
       "         0.66441751          0.56637424          0.56395030          0.66097592 \n",
       "raceW:cityMANHATTAN raceZ:cityMANHATTAN    raceB:cityQUEENS    raceI:cityQUEENS \n",
       "         0.54645639          0.58491418          0.59783621          0.58361284 \n",
       "   raceP:cityQUEENS    raceQ:cityQUEENS    raceU:cityQUEENS    raceW:cityQUEENS \n",
       "         0.53368664          0.50567557          0.62319030          0.55630395 \n",
       "   raceZ:cityQUEENS raceB:citySTATEN IS raceI:citySTATEN IS raceP:citySTATEN IS \n",
       "         0.56459080          0.76452009          0.81127231          0.69966133 \n",
       "raceQ:citySTATEN IS raceU:citySTATEN IS raceW:citySTATEN IS raceZ:citySTATEN IS \n",
       "         0.77951362          0.64185012          0.68401637          0.78433240 "
      ]
     },
     "metadata": {},
     "output_type": "display_data"
    }
   ],
   "source": [
    "logit2prob(coef(race_city_arstmade))"
   ]
  },
  {
   "cell_type": "code",
   "execution_count": 5,
   "metadata": {},
   "outputs": [
    {
     "data": {
      "text/plain": [
       "\n",
       "Call:\n",
       "glm(formula = arstmade_num ~ city, family = \"binomial\", data = ten_df)\n",
       "\n",
       "Deviance Residuals: \n",
       "    Min       1Q   Median       3Q      Max  \n",
       "-0.4528  -0.4044  -0.3584  -0.3240   2.4385  \n",
       "\n",
       "Coefficients:\n",
       "              Estimate Std. Error z value Pr(>|z|)    \n",
       "(Intercept)   -2.46261    0.01109 -222.10   <2e-16 ***\n",
       "cityBROOKLYN  -0.45801    0.01512  -30.30   <2e-16 ***\n",
       "cityMANHATTAN  0.23664    0.01470   16.10   <2e-16 ***\n",
       "cityQUEENS    -0.25061    0.01555  -16.11   <2e-16 ***\n",
       "citySTATEN IS -0.45315    0.02948  -15.37   <2e-16 ***\n",
       "---\n",
       "Signif. codes:  0 ‘***’ 0.001 ‘**’ 0.01 ‘*’ 0.05 ‘.’ 0.1 ‘ ’ 1\n",
       "\n",
       "(Dispersion parameter for binomial family taken to be 1)\n",
       "\n",
       "    Null deviance: 299749  on 601224  degrees of freedom\n",
       "Residual deviance: 296916  on 601220  degrees of freedom\n",
       "AIC: 296926\n",
       "\n",
       "Number of Fisher Scoring iterations: 5\n"
      ]
     },
     "metadata": {},
     "output_type": "display_data"
    }
   ],
   "source": [
    "ten_df$arstmade_num <- factor(ten_df$arstmade_num)\n",
    "\n",
    "city_arstmade <- glm(arstmade_num ~ city, data = ten_df, family = \"binomial\")\n",
    "\n",
    "summary(city_arstmade)"
   ]
  },
  {
   "cell_type": "code",
   "execution_count": 13,
   "metadata": {},
   "outputs": [
    {
     "data": {
      "text/html": [
       "<style>\n",
       ".dl-inline {width: auto; margin:0; padding: 0}\n",
       ".dl-inline>dt, .dl-inline>dd {float: none; width: auto; display: inline-block}\n",
       ".dl-inline>dt::after {content: \":\\0020\"; padding-right: .5ex}\n",
       ".dl-inline>dt:not(:first-of-type) {padding-left: .5ex}\n",
       "</style><dl class=dl-inline><dt>(Intercept)</dt><dd>0.0785215496152958</dd><dt>cityBROOKLYN</dt><dd>0.387458880230221</dd><dt>cityMANHATTAN</dt><dd>0.558885131687395</dd><dt>cityQUEENS</dt><dd>0.43767372041956</dd><dt>citySTATEN IS</dt><dd>0.388611126032798</dd></dl>\n"
      ],
      "text/latex": [
       "\\begin{description*}\n",
       "\\item[(Intercept)] 0.0785215496152958\n",
       "\\item[cityBROOKLYN] 0.387458880230221\n",
       "\\item[cityMANHATTAN] 0.558885131687395\n",
       "\\item[cityQUEENS] 0.43767372041956\n",
       "\\item[citySTATEN IS] 0.388611126032798\n",
       "\\end{description*}\n"
      ],
      "text/markdown": [
       "(Intercept)\n",
       ":   0.0785215496152958cityBROOKLYN\n",
       ":   0.387458880230221cityMANHATTAN\n",
       ":   0.558885131687395cityQUEENS\n",
       ":   0.43767372041956citySTATEN IS\n",
       ":   0.388611126032798\n",
       "\n"
      ],
      "text/plain": [
       "  (Intercept)  cityBROOKLYN cityMANHATTAN    cityQUEENS citySTATEN IS \n",
       "   0.07852155    0.38745888    0.55888513    0.43767372    0.38861113 "
      ]
     },
     "metadata": {},
     "output_type": "display_data"
    }
   ],
   "source": [
    "logit2prob(coef(city_arstmade))"
   ]
  },
  {
   "cell_type": "code",
   "execution_count": 4,
   "metadata": {},
   "outputs": [],
   "source": [
    "logit2prob2 <- function(model){\n",
    "    int = coef(model)[1]\n",
    "    n = length(model)\n",
    "    output = rep(1,n)\n",
    "    output[1] = exp(int)/(1 + exp(int))\n",
    "    for (i in 2:n) {\n",
    "    logit <- int + coef(model)[i]\n",
    "    odds <- exp(logit)\n",
    "    prob <- odds / (1 + odds)\n",
    "    output[i] <- prob\n",
    "}\n",
    "    return(output)\n",
    "}\n",
    "\n"
   ]
  },
  {
   "cell_type": "code",
   "execution_count": 1,
   "metadata": {},
   "outputs": [
    {
     "ename": "ERROR",
     "evalue": "Error in logit2prob(coef(race_city_arstmade)): could not find function \"logit2prob\"\n",
     "output_type": "error",
     "traceback": [
      "Error in logit2prob(coef(race_city_arstmade)): could not find function \"logit2prob\"\nTraceback:\n"
     ]
    }
   ],
   "source": [
    "logit2prob(coef(race_city_arstmade))"
   ]
  },
  {
   "cell_type": "code",
   "execution_count": 9,
   "metadata": {},
   "outputs": [
    {
     "data": {
      "text/html": [
       "<style>\n",
       ".list-inline {list-style: none; margin:0; padding: 0}\n",
       ".list-inline>li {display: inline-block}\n",
       ".list-inline>li:not(:last-child)::after {content: \"\\00b7\"; padding: 0 .5ex}\n",
       "</style>\n",
       "<ol class=list-inline><li>0.0669470910210482</li><li>0.0683173627805584</li><li>0.0488561461901551</li><li>0.0783786578430681</li><li>0.0679993891882721</li><li>0.0639653995028038</li><li>0.0674622725874384</li><li>0.0556713114175152</li><li>&lt;NA&gt;</li><li>&lt;NA&gt;</li><li>&lt;NA&gt;</li><li>&lt;NA&gt;</li><li>&lt;NA&gt;</li><li>&lt;NA&gt;</li><li>&lt;NA&gt;</li><li>&lt;NA&gt;</li><li>&lt;NA&gt;</li><li>&lt;NA&gt;</li><li>&lt;NA&gt;</li><li>&lt;NA&gt;</li><li>&lt;NA&gt;</li><li>&lt;NA&gt;</li><li>&lt;NA&gt;</li><li>&lt;NA&gt;</li><li>&lt;NA&gt;</li><li>&lt;NA&gt;</li><li>&lt;NA&gt;</li><li>&lt;NA&gt;</li><li>&lt;NA&gt;</li><li>&lt;NA&gt;</li></ol>\n"
      ],
      "text/latex": [
       "\\begin{enumerate*}\n",
       "\\item 0.0669470910210482\n",
       "\\item 0.0683173627805584\n",
       "\\item 0.0488561461901551\n",
       "\\item 0.0783786578430681\n",
       "\\item 0.0679993891882721\n",
       "\\item 0.0639653995028038\n",
       "\\item 0.0674622725874384\n",
       "\\item 0.0556713114175152\n",
       "\\item <NA>\n",
       "\\item <NA>\n",
       "\\item <NA>\n",
       "\\item <NA>\n",
       "\\item <NA>\n",
       "\\item <NA>\n",
       "\\item <NA>\n",
       "\\item <NA>\n",
       "\\item <NA>\n",
       "\\item <NA>\n",
       "\\item <NA>\n",
       "\\item <NA>\n",
       "\\item <NA>\n",
       "\\item <NA>\n",
       "\\item <NA>\n",
       "\\item <NA>\n",
       "\\item <NA>\n",
       "\\item <NA>\n",
       "\\item <NA>\n",
       "\\item <NA>\n",
       "\\item <NA>\n",
       "\\item <NA>\n",
       "\\end{enumerate*}\n"
      ],
      "text/markdown": [
       "1. 0.0669470910210482\n",
       "2. 0.0683173627805584\n",
       "3. 0.0488561461901551\n",
       "4. 0.0783786578430681\n",
       "5. 0.0679993891882721\n",
       "6. 0.0639653995028038\n",
       "7. 0.0674622725874384\n",
       "8. 0.0556713114175152\n",
       "9. &lt;NA&gt;\n",
       "10. &lt;NA&gt;\n",
       "11. &lt;NA&gt;\n",
       "12. &lt;NA&gt;\n",
       "13. &lt;NA&gt;\n",
       "14. &lt;NA&gt;\n",
       "15. &lt;NA&gt;\n",
       "16. &lt;NA&gt;\n",
       "17. &lt;NA&gt;\n",
       "18. &lt;NA&gt;\n",
       "19. &lt;NA&gt;\n",
       "20. &lt;NA&gt;\n",
       "21. &lt;NA&gt;\n",
       "22. &lt;NA&gt;\n",
       "23. &lt;NA&gt;\n",
       "24. &lt;NA&gt;\n",
       "25. &lt;NA&gt;\n",
       "26. &lt;NA&gt;\n",
       "27. &lt;NA&gt;\n",
       "28. &lt;NA&gt;\n",
       "29. &lt;NA&gt;\n",
       "30. &lt;NA&gt;\n",
       "\n",
       "\n"
      ],
      "text/plain": [
       " [1] 0.06694709 0.06831736 0.04885615 0.07837866 0.06799939 0.06396540\n",
       " [7] 0.06746227 0.05567131         NA         NA         NA         NA\n",
       "[13]         NA         NA         NA         NA         NA         NA\n",
       "[19]         NA         NA         NA         NA         NA         NA\n",
       "[25]         NA         NA         NA         NA         NA         NA"
      ]
     },
     "metadata": {},
     "output_type": "display_data"
    }
   ],
   "source": [
    "logit2prob2 <- function(model){\n",
    "    int = coef(model)[1]\n",
    "    n = length(model)\n",
    "    output = rep(1,n)\n",
    "    output[1] = exp(int)/(1 + exp(int))\n",
    "    for (i in 2:n) {\n",
    "    logit <- int + coef(model)[i]\n",
    "    odds <- exp(logit)\n",
    "    prob <- odds / (1 + odds)\n",
    "    output[i] <- prob\n",
    "}\n",
    "    return(output)\n",
    "}\n",
    "\n",
    "logit2prob2(race_city_arstmade)\n"
   ]
  },
  {
   "cell_type": "code",
   "execution_count": 7,
   "metadata": {},
   "outputs": [
    {
     "data": {
      "text/plain": [
       "\n",
       "Call:\n",
       "glm(formula = arstmade_num ~ race + city, family = \"binomial\", \n",
       "    data = ten_df)\n",
       "\n",
       "Deviance Residuals: \n",
       "    Min       1Q   Median       3Q      Max  \n",
       "-0.4630  -0.4093  -0.3538  -0.3257   2.5636  \n",
       "\n",
       "Coefficients:\n",
       "               Estimate Std. Error z value Pr(>|z|)    \n",
       "(Intercept)   -2.428561   0.031318 -77.546  < 2e-16 ***\n",
       "raceB         -0.009109   0.029943  -0.304 0.760958    \n",
       "raceI         -0.346686   0.095810  -3.618 0.000296 ***\n",
       "raceP          0.022206   0.034831   0.638 0.523777    \n",
       "raceQ         -0.057091   0.030640  -1.863 0.062425 .  \n",
       "raceU         -0.093804   0.068247  -1.374 0.169291    \n",
       "raceW          0.008218   0.033665   0.244 0.807154    \n",
       "raceZ         -0.320435   0.045748  -7.004 2.48e-12 ***\n",
       "cityBROOKLYN  -0.472545   0.015383 -30.719  < 2e-16 ***\n",
       "cityMANHATTAN  0.227204   0.014800  15.352  < 2e-16 ***\n",
       "cityQUEENS    -0.254032   0.015885 -15.992  < 2e-16 ***\n",
       "citySTATEN IS -0.468069   0.030019 -15.592  < 2e-16 ***\n",
       "---\n",
       "Signif. codes:  0 ‘***’ 0.001 ‘**’ 0.01 ‘*’ 0.05 ‘.’ 0.1 ‘ ’ 1\n",
       "\n",
       "(Dispersion parameter for binomial family taken to be 1)\n",
       "\n",
       "    Null deviance: 299749  on 601224  degrees of freedom\n",
       "Residual deviance: 296800  on 601213  degrees of freedom\n",
       "AIC: 296824\n",
       "\n",
       "Number of Fisher Scoring iterations: 5\n"
      ]
     },
     "metadata": {},
     "output_type": "display_data"
    }
   ],
   "source": [
    "\n",
    "ten_df$arstmade_num <- factor(ten_df$arstmade_num)\n",
    "\n",
    "race_city_arstmade <- glm(arstmade_num ~ race + city, data = ten_df, family = \"binomial\")\n",
    "\n",
    "summary(race_city_arstmade)"
   ]
  },
  {
   "cell_type": "code",
   "execution_count": 8,
   "metadata": {},
   "outputs": [
    {
     "data": {
      "text/html": [
       "<style>\n",
       ".dl-inline {width: auto; margin:0; padding: 0}\n",
       ".dl-inline>dt, .dl-inline>dd {float: none; width: auto; display: inline-block}\n",
       ".dl-inline>dt::after {content: \":\\0020\"; padding-right: .5ex}\n",
       ".dl-inline>dt:not(:first-of-type) {padding-left: .5ex}\n",
       "</style><dl class=dl-inline><dt>(Intercept)</dt><dd>0.08102058120467</dd><dt>raceB</dt><dd>0.497722704594665</dd><dt>raceI</dt><dd>0.41418639099996</dd><dt>raceP</dt><dd>0.505551279585795</dd><dt>raceQ</dt><dd>0.485731047260799</dd><dt>raceU</dt><dd>0.476566150136422</dd><dt>raceW</dt><dd>0.502054383318967</dd><dt>raceZ</dt><dd>0.420569780715998</dd><dt>cityBROOKLYN</dt><dd>0.384014078007629</dd><dt>cityMANHATTAN</dt><dd>0.556557973043052</dd><dt>cityQUEENS</dt><dd>0.436831411253316</dd><dt>citySTATEN IS</dt><dd>0.385073450627083</dd></dl>\n"
      ],
      "text/latex": [
       "\\begin{description*}\n",
       "\\item[(Intercept)] 0.08102058120467\n",
       "\\item[raceB] 0.497722704594665\n",
       "\\item[raceI] 0.41418639099996\n",
       "\\item[raceP] 0.505551279585795\n",
       "\\item[raceQ] 0.485731047260799\n",
       "\\item[raceU] 0.476566150136422\n",
       "\\item[raceW] 0.502054383318967\n",
       "\\item[raceZ] 0.420569780715998\n",
       "\\item[cityBROOKLYN] 0.384014078007629\n",
       "\\item[cityMANHATTAN] 0.556557973043052\n",
       "\\item[cityQUEENS] 0.436831411253316\n",
       "\\item[citySTATEN IS] 0.385073450627083\n",
       "\\end{description*}\n"
      ],
      "text/markdown": [
       "(Intercept)\n",
       ":   0.08102058120467raceB\n",
       ":   0.497722704594665raceI\n",
       ":   0.41418639099996raceP\n",
       ":   0.505551279585795raceQ\n",
       ":   0.485731047260799raceU\n",
       ":   0.476566150136422raceW\n",
       ":   0.502054383318967raceZ\n",
       ":   0.420569780715998cityBROOKLYN\n",
       ":   0.384014078007629cityMANHATTAN\n",
       ":   0.556557973043052cityQUEENS\n",
       ":   0.436831411253316citySTATEN IS\n",
       ":   0.385073450627083\n",
       "\n"
      ],
      "text/plain": [
       "  (Intercept)         raceB         raceI         raceP         raceQ \n",
       "   0.08102058    0.49772270    0.41418639    0.50555128    0.48573105 \n",
       "        raceU         raceW         raceZ  cityBROOKLYN cityMANHATTAN \n",
       "   0.47656615    0.50205438    0.42056978    0.38401408    0.55655797 \n",
       "   cityQUEENS citySTATEN IS \n",
       "   0.43683141    0.38507345 "
      ]
     },
     "metadata": {},
     "output_type": "display_data"
    }
   ],
   "source": [
    "logit2prob(coef(race_city_arstmade))"
   ]
  },
  {
   "cell_type": "code",
   "execution_count": 9,
   "metadata": {},
   "outputs": [
    {
     "data": {
      "text/html": [
       "<style>\n",
       ".list-inline {list-style: none; margin:0; padding: 0}\n",
       ".list-inline>li {display: inline-block}\n",
       ".list-inline>li:not(:last-child)::after {content: \"\\00b7\"; padding: 0 .5ex}\n",
       "</style>\n",
       "<ol class=list-inline><li>0.08102058120467</li><li>0.0803449244157298</li><li>0.0586765811338289</li><li>0.0826894169651546</li><li>0.0768701815048754</li><li>0.0743051323718042</li><li>0.0816345417411146</li><li>0.0601434145093878</li><li>0.0520989456863024</li><li>0.0996287633438131</li><li>0.0640083979256299</li><li>0.0523204431720482</li><li>&lt;NA&gt;</li><li>&lt;NA&gt;</li><li>&lt;NA&gt;</li><li>&lt;NA&gt;</li><li>&lt;NA&gt;</li><li>&lt;NA&gt;</li><li>&lt;NA&gt;</li><li>&lt;NA&gt;</li><li>&lt;NA&gt;</li><li>&lt;NA&gt;</li><li>&lt;NA&gt;</li><li>&lt;NA&gt;</li><li>&lt;NA&gt;</li><li>&lt;NA&gt;</li><li>&lt;NA&gt;</li><li>&lt;NA&gt;</li><li>&lt;NA&gt;</li><li>&lt;NA&gt;</li></ol>\n"
      ],
      "text/latex": [
       "\\begin{enumerate*}\n",
       "\\item 0.08102058120467\n",
       "\\item 0.0803449244157298\n",
       "\\item 0.0586765811338289\n",
       "\\item 0.0826894169651546\n",
       "\\item 0.0768701815048754\n",
       "\\item 0.0743051323718042\n",
       "\\item 0.0816345417411146\n",
       "\\item 0.0601434145093878\n",
       "\\item 0.0520989456863024\n",
       "\\item 0.0996287633438131\n",
       "\\item 0.0640083979256299\n",
       "\\item 0.0523204431720482\n",
       "\\item <NA>\n",
       "\\item <NA>\n",
       "\\item <NA>\n",
       "\\item <NA>\n",
       "\\item <NA>\n",
       "\\item <NA>\n",
       "\\item <NA>\n",
       "\\item <NA>\n",
       "\\item <NA>\n",
       "\\item <NA>\n",
       "\\item <NA>\n",
       "\\item <NA>\n",
       "\\item <NA>\n",
       "\\item <NA>\n",
       "\\item <NA>\n",
       "\\item <NA>\n",
       "\\item <NA>\n",
       "\\item <NA>\n",
       "\\end{enumerate*}\n"
      ],
      "text/markdown": [
       "1. 0.08102058120467\n",
       "2. 0.0803449244157298\n",
       "3. 0.0586765811338289\n",
       "4. 0.0826894169651546\n",
       "5. 0.0768701815048754\n",
       "6. 0.0743051323718042\n",
       "7. 0.0816345417411146\n",
       "8. 0.0601434145093878\n",
       "9. 0.0520989456863024\n",
       "10. 0.0996287633438131\n",
       "11. 0.0640083979256299\n",
       "12. 0.0523204431720482\n",
       "13. &lt;NA&gt;\n",
       "14. &lt;NA&gt;\n",
       "15. &lt;NA&gt;\n",
       "16. &lt;NA&gt;\n",
       "17. &lt;NA&gt;\n",
       "18. &lt;NA&gt;\n",
       "19. &lt;NA&gt;\n",
       "20. &lt;NA&gt;\n",
       "21. &lt;NA&gt;\n",
       "22. &lt;NA&gt;\n",
       "23. &lt;NA&gt;\n",
       "24. &lt;NA&gt;\n",
       "25. &lt;NA&gt;\n",
       "26. &lt;NA&gt;\n",
       "27. &lt;NA&gt;\n",
       "28. &lt;NA&gt;\n",
       "29. &lt;NA&gt;\n",
       "30. &lt;NA&gt;\n",
       "\n",
       "\n"
      ],
      "text/plain": [
       " [1] 0.08102058 0.08034492 0.05867658 0.08268942 0.07687018 0.07430513\n",
       " [7] 0.08163454 0.06014341 0.05209895 0.09962876 0.06400840 0.05232044\n",
       "[13]         NA         NA         NA         NA         NA         NA\n",
       "[19]         NA         NA         NA         NA         NA         NA\n",
       "[25]         NA         NA         NA         NA         NA         NA"
      ]
     },
     "metadata": {},
     "output_type": "display_data"
    }
   ],
   "source": [
    "logit2prob2(race_city_arstmade)"
   ]
  },
  {
   "cell_type": "code",
   "execution_count": null,
   "metadata": {},
   "outputs": [],
   "source": []
  }
 ],
 "metadata": {
  "kernelspec": {
   "display_name": "R",
   "language": "R",
   "name": "ir"
  },
  "language_info": {
   "codemirror_mode": "r",
   "file_extension": ".r",
   "mimetype": "text/x-r-source",
   "name": "R",
   "pygments_lexer": "r",
   "version": "4.0.0"
  }
 },
 "nbformat": 4,
 "nbformat_minor": 4
}
