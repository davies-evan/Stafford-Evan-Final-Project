{
 "cells": [
  {
   "cell_type": "code",
   "execution_count": 6,
   "metadata": {},
   "outputs": [],
   "source": [
    "library(stringr)\n",
    "\n",
    "library(dplyr)\n",
    "\n",
    "eleven_df <- read.csv(\"2011.csv\")"
   ]
  },
  {
   "cell_type": "code",
   "execution_count": 7,
   "metadata": {},
   "outputs": [],
   "source": [
    "# race\n",
    "# city\n",
    "# race*city\n",
    "\n",
    "eleven_df <- filter(eleven_df, eleven_df$city != \" \")\n",
    "\n",
    "eleven_df <- filter(eleven_df, eleven_df$race != \" \")"
   ]
  },
  {
   "cell_type": "code",
   "execution_count": 8,
   "metadata": {},
   "outputs": [],
   "source": [
    "\n",
    "quantconvert <- function(v) {\n",
    "    n <- length(v)\n",
    "    column <- rep(0, n)\n",
    "    \n",
    "    for (i in 1:n) {\n",
    "        if (v[i] == \"Y\") {\n",
    "            column[i] <- 1\n",
    "        }\n",
    "        else if (v[i] == \"N\"){\n",
    "            column[i] <- 0\n",
    "        }\n",
    "    }\n",
    "    return(column)\n",
    "}\n",
    "\n",
    "eleven_df$arstmade_num <- quantconvert(eleven_df$arstmade)"
   ]
  },
  {
   "cell_type": "code",
   "execution_count": 4,
   "metadata": {},
   "outputs": [
    {
     "data": {
      "text/plain": [
       "\n",
       "Call:\n",
       "glm(formula = arstmade_num ~ race, family = \"binomial\", data = eleven_df)\n",
       "\n",
       "Deviance Residuals: \n",
       "    Min       1Q   Median       3Q      Max  \n",
       "-0.3756  -0.3501  -0.3501  -0.3468   2.4915  \n",
       "\n",
       "Coefficients:\n",
       "             Estimate Std. Error  z value Pr(>|z|)    \n",
       "(Intercept) -2.783025   0.027599 -100.838  < 2e-16 ***\n",
       "raceB        0.021474   0.028508    0.753   0.4513    \n",
       "raceI       -0.089628   0.087050   -1.030   0.3032    \n",
       "raceP        0.057555   0.033459    1.720   0.0854 .  \n",
       "raceQ        0.001907   0.029420    0.065   0.9483    \n",
       "raceU       -0.069913   0.064348   -1.086   0.2773    \n",
       "raceW        0.167104   0.031884    5.241 1.60e-07 ***\n",
       "raceZ       -0.274807   0.046308   -5.934 2.95e-09 ***\n",
       "---\n",
       "Signif. codes:  0 ‘***’ 0.001 ‘**’ 0.01 ‘*’ 0.05 ‘.’ 0.1 ‘ ’ 1\n",
       "\n",
       "(Dispersion parameter for binomial family taken to be 1)\n",
       "\n",
       "    Null deviance: 309829  on 685685  degrees of freedom\n",
       "Residual deviance: 309668  on 685678  degrees of freedom\n",
       "AIC: 309684\n",
       "\n",
       "Number of Fisher Scoring iterations: 5\n"
      ]
     },
     "metadata": {},
     "output_type": "display_data"
    }
   ],
   "source": [
    "\n",
    "eleven_df$arstmade_num <- factor(eleven_df$arstmade_num)\n",
    "\n",
    "race_arstmade <- glm(arstmade_num ~ race, data = eleven_df, family = \"binomial\")\n",
    "\n",
    "summary(race_arstmade)"
   ]
  },
  {
   "cell_type": "code",
   "execution_count": 5,
   "metadata": {},
   "outputs": [
    {
     "data": {
      "text/plain": [
       "\n",
       "Call:\n",
       "glm(formula = arstmade_num ~ race + city + race * city, family = \"binomial\", \n",
       "    data = eleven_df)\n",
       "\n",
       "Deviance Residuals: \n",
       "    Min       1Q   Median       3Q      Max  \n",
       "-0.4682  -0.3733  -0.3458  -0.2979   2.8497  \n",
       "\n",
       "Coefficients:\n",
       "                    Estimate Std. Error z value Pr(>|z|)    \n",
       "(Intercept)         -3.02697    0.14200 -21.317  < 2e-16 ***\n",
       "raceB                0.29814    0.14295   2.086  0.03701 *  \n",
       "raceI                0.19997    0.27552   0.726  0.46797    \n",
       "raceP                0.28231    0.14575   1.937  0.05276 .  \n",
       "raceQ                0.23988    0.14344   1.672  0.09446 .  \n",
       "raceU                0.01719    0.19990   0.086  0.93149    \n",
       "raceW                0.48341    0.15421   3.135  0.00172 ** \n",
       "raceZ                0.17257    0.15748   1.096  0.27317    \n",
       "cityBROOKLYN         0.04291    0.15765   0.272  0.78546    \n",
       "cityMANHATTAN        0.63046    0.15592   4.043 5.27e-05 ***\n",
       "cityQUEENS           0.22742    0.14639   1.554  0.12030    \n",
       "citySTATEN IS       -0.04880    0.27979  -0.174  0.86152    \n",
       "raceB:cityBROOKLYN  -0.40676    0.15903  -2.558  0.01054 *  \n",
       "raceI:cityBROOKLYN  -0.13098    0.32704  -0.400  0.68880    \n",
       "raceP:cityBROOKLYN  -0.27496    0.16777  -1.639  0.10123    \n",
       "raceQ:cityBROOKLYN  -0.35714    0.16069  -2.222  0.02625 *  \n",
       "raceU:cityBROOKLYN  -0.35209    0.25066  -1.405  0.16013    \n",
       "raceW:cityBROOKLYN  -0.33268    0.17162  -1.939  0.05256 .  \n",
       "raceZ:cityBROOKLYN  -0.61707    0.18948  -3.257  0.00113 ** \n",
       "raceB:cityMANHATTAN -0.32746    0.15738  -2.081  0.03746 *  \n",
       "raceI:cityMANHATTAN -0.36326    0.34054  -1.067  0.28610    \n",
       "raceP:cityMANHATTAN -0.45044    0.16267  -2.769  0.00562 ** \n",
       "raceQ:cityMANHATTAN -0.28575    0.15855  -1.802  0.07150 .  \n",
       "raceU:cityMANHATTAN  0.22384    0.23374   0.958  0.33825    \n",
       "raceW:cityMANHATTAN -0.36133    0.16971  -2.129  0.03325 *  \n",
       "raceZ:cityMANHATTAN -0.55081    0.18316  -3.007  0.00264 ** \n",
       "raceB:cityQUEENS    -0.12739    0.14819  -0.860  0.38999    \n",
       "raceI:cityQUEENS    -0.31480    0.30602  -1.029  0.30362    \n",
       "raceP:cityQUEENS    -0.20370    0.15762  -1.292  0.19622    \n",
       "raceQ:cityQUEENS    -0.24847    0.14907  -1.667  0.09554 .  \n",
       "raceU:cityQUEENS    -0.26801    0.23574  -1.137  0.25559    \n",
       "raceW:cityQUEENS    -0.22364    0.16151  -1.385  0.16613    \n",
       "raceZ:cityQUEENS    -0.55627    0.18641  -2.984  0.00284 ** \n",
       "raceB:citySTATEN IS  0.22557    0.28288   0.797  0.42522    \n",
       "raceI:citySTATEN IS -1.16724    0.80164  -1.456  0.14537    \n",
       "raceP:citySTATEN IS  0.12877    0.31434   0.410  0.68206    \n",
       "raceQ:citySTATEN IS  0.19413    0.28604   0.679  0.49733    \n",
       "raceU:citySTATEN IS  0.46832    0.37798   1.239  0.21535    \n",
       "raceW:citySTATEN IS -0.34745    0.28967  -1.199  0.23036    \n",
       "raceZ:citySTATEN IS -0.64031    0.37874  -1.691  0.09091 .  \n",
       "---\n",
       "Signif. codes:  0 ‘***’ 0.001 ‘**’ 0.01 ‘*’ 0.05 ‘.’ 0.1 ‘ ’ 1\n",
       "\n",
       "(Dispersion parameter for binomial family taken to be 1)\n",
       "\n",
       "    Null deviance: 309829  on 685685  degrees of freedom\n",
       "Residual deviance: 307374  on 685646  degrees of freedom\n",
       "AIC: 307454\n",
       "\n",
       "Number of Fisher Scoring iterations: 6\n"
      ]
     },
     "metadata": {},
     "output_type": "display_data"
    }
   ],
   "source": [
    "\n",
    "eleven_df$arstmade_num <- factor(eleven_df$arstmade_num)\n",
    "\n",
    "race_city_arstmade <- glm(arstmade_num ~ race + city + race*city, data = eleven_df, family = \"binomial\")\n",
    "\n",
    "summary(race_city_arstmade)"
   ]
  },
  {
   "cell_type": "code",
   "execution_count": 4,
   "metadata": {},
   "outputs": [
    {
     "data": {
      "text/plain": [
       "\n",
       "Call:\n",
       "glm(formula = arstmade_num ~ city, family = \"binomial\", data = eleven_df)\n",
       "\n",
       "Deviance Residuals: \n",
       "    Min       1Q   Median       3Q      Max  \n",
       "-0.4102  -0.3588  -0.3518  -0.3013   2.4959  \n",
       "\n",
       "Coefficients:\n",
       "              Estimate Std. Error  z value Pr(>|z|)    \n",
       "(Intercept)   -2.75157    0.01143 -240.751  < 2e-16 ***\n",
       "cityBROOKLYN  -0.31779    0.01529  -20.782  < 2e-16 ***\n",
       "cityMANHATTAN  0.31837    0.01504   21.163  < 2e-16 ***\n",
       "cityQUEENS     0.04100    0.01558    2.632  0.00848 ** \n",
       "citySTATEN IS  0.02071    0.02741    0.755  0.44999    \n",
       "---\n",
       "Signif. codes:  0 ‘***’ 0.001 ‘**’ 0.01 ‘*’ 0.05 ‘.’ 0.1 ‘ ’ 1\n",
       "\n",
       "(Dispersion parameter for binomial family taken to be 1)\n",
       "\n",
       "    Null deviance: 309829  on 685685  degrees of freedom\n",
       "Residual deviance: 307766  on 685681  degrees of freedom\n",
       "AIC: 307776\n",
       "\n",
       "Number of Fisher Scoring iterations: 5\n"
      ]
     },
     "metadata": {},
     "output_type": "display_data"
    }
   ],
   "source": [
    "eleven_df$arstmade_num <- factor(eleven_df$arstmade_num)\n",
    "\n",
    "city_arstmade <- glm(arstmade_num ~ city, data = eleven_df, family = \"binomial\")\n",
    "\n",
    "summary(city_arstmade)"
   ]
  },
  {
   "cell_type": "code",
   "execution_count": 11,
   "metadata": {},
   "outputs": [],
   "source": [
    "logit2prob <- function(logit){\n",
    "    odds <- exp(logit)\n",
    "    prob <- odds / (1 + odds)\n",
    "    return(prob)\n",
    "}\n",
    "\n"
   ]
  },
  {
   "cell_type": "code",
   "execution_count": 12,
   "metadata": {},
   "outputs": [],
   "source": [
    "logit2prob2 <- function(model){\n",
    "    int = coef(model)[1]\n",
    "    n = length(model)\n",
    "    output = rep(1,n)\n",
    "    output[1] = exp(int)/(1 + exp(int))\n",
    "    for (i in 2:n) {\n",
    "    logit <- int + coef(model)[i]\n",
    "    odds <- exp(logit)\n",
    "    prob <- odds / (1 + odds)\n",
    "    output[i] <- prob\n",
    "}\n",
    "    return(output)\n",
    "}\n"
   ]
  },
  {
   "cell_type": "code",
   "execution_count": 7,
   "metadata": {},
   "outputs": [
    {
     "ename": "ERROR",
     "evalue": "Error in logit2prob(coef(race_arstmade)): could not find function \"logit2prob\"\n",
     "output_type": "error",
     "traceback": [
      "Error in logit2prob(coef(race_arstmade)): could not find function \"logit2prob\"\nTraceback:\n"
     ]
    }
   ],
   "source": [
    "logit2prob(coef(race_city_arstmade))"
   ]
  },
  {
   "cell_type": "code",
   "execution_count": 5,
   "metadata": {},
   "outputs": [
    {
     "ename": "ERROR",
     "evalue": "Error in logit2prob2(race_city_arstmade): could not find function \"logit2prob2\"\n",
     "output_type": "error",
     "traceback": [
      "Error in logit2prob2(race_city_arstmade): could not find function \"logit2prob2\"\nTraceback:\n"
     ]
    }
   ],
   "source": [
    "logit2prob2(race_city_arstmade)"
   ]
  },
  {
   "cell_type": "code",
   "execution_count": 9,
   "metadata": {},
   "outputs": [
    {
     "data": {
      "text/plain": [
       "\n",
       "Call:\n",
       "glm(formula = arstmade_num ~ race + city, family = \"binomial\", \n",
       "    data = eleven_df)\n",
       "\n",
       "Deviance Residuals: \n",
       "    Min       1Q   Median       3Q      Max  \n",
       "-0.4376  -0.3635  -0.3506  -0.3033   2.6183  \n",
       "\n",
       "Coefficients:\n",
       "               Estimate Std. Error z value Pr(>|z|)    \n",
       "(Intercept)   -2.791762   0.030596 -91.245  < 2e-16 ***\n",
       "raceB          0.074916   0.029051   2.579  0.00991 ** \n",
       "raceI         -0.065450   0.087168  -0.751  0.45275    \n",
       "raceP          0.021024   0.034091   0.617  0.53744    \n",
       "raceQ          0.009876   0.029779   0.332  0.74015    \n",
       "raceU         -0.047072   0.064561  -0.729  0.46593    \n",
       "raceW          0.190873   0.032449   5.882 4.05e-09 ***\n",
       "raceZ         -0.263564   0.046689  -5.645 1.65e-08 ***\n",
       "cityBROOKLYN  -0.339276   0.015506 -21.881  < 2e-16 ***\n",
       "cityMANHATTAN  0.303197   0.015137  20.030  < 2e-16 ***\n",
       "cityQUEENS     0.033197   0.015882   2.090  0.03659 *  \n",
       "citySTATEN IS -0.036663   0.028199  -1.300  0.19355    \n",
       "---\n",
       "Signif. codes:  0 ‘***’ 0.001 ‘**’ 0.01 ‘*’ 0.05 ‘.’ 0.1 ‘ ’ 1\n",
       "\n",
       "(Dispersion parameter for binomial family taken to be 1)\n",
       "\n",
       "    Null deviance: 309829  on 685685  degrees of freedom\n",
       "Residual deviance: 307581  on 685674  degrees of freedom\n",
       "AIC: 307605\n",
       "\n",
       "Number of Fisher Scoring iterations: 5\n"
      ]
     },
     "metadata": {},
     "output_type": "display_data"
    }
   ],
   "source": [
    "eleven_df$arstmade_num <- factor(eleven_df$arstmade_num)\n",
    "\n",
    "race_city_arstmade <- glm(arstmade_num ~ race + city, data = eleven_df, family = \"binomial\")\n",
    "\n",
    "summary(race_city_arstmade)"
   ]
  },
  {
   "cell_type": "code",
   "execution_count": 13,
   "metadata": {},
   "outputs": [
    {
     "data": {
      "text/html": [
       "<style>\n",
       ".dl-inline {width: auto; margin:0; padding: 0}\n",
       ".dl-inline>dt, .dl-inline>dd {float: none; width: auto; display: inline-block}\n",
       ".dl-inline>dt::after {content: \":\\0020\"; padding-right: .5ex}\n",
       ".dl-inline>dt:not(:first-of-type) {padding-left: .5ex}\n",
       "</style><dl class=dl-inline><dt>(Intercept)</dt><dd>0.0577709722845105</dd><dt>raceB</dt><dd>0.518720346805422</dd><dt>raceI</dt><dd>0.483643425363739</dd><dt>raceP</dt><dd>0.505255749670486</dd><dt>raceQ</dt><dd>0.502469053133664</dd><dt>raceU</dt><dd>0.488234198115537</dd><dt>raceW</dt><dd>0.547574019798444</dd><dt>raceZ</dt><dd>0.434487823226256</dd><dt>cityBROOKLYN</dt><dd>0.415985333904845</dd><dt>cityMANHATTAN</dt><dd>0.575223968236696</dd><dt>cityQUEENS</dt><dd>0.508298477713837</dd><dt>citySTATEN IS</dt><dd>0.490835234502622</dd></dl>\n"
      ],
      "text/latex": [
       "\\begin{description*}\n",
       "\\item[(Intercept)] 0.0577709722845105\n",
       "\\item[raceB] 0.518720346805422\n",
       "\\item[raceI] 0.483643425363739\n",
       "\\item[raceP] 0.505255749670486\n",
       "\\item[raceQ] 0.502469053133664\n",
       "\\item[raceU] 0.488234198115537\n",
       "\\item[raceW] 0.547574019798444\n",
       "\\item[raceZ] 0.434487823226256\n",
       "\\item[cityBROOKLYN] 0.415985333904845\n",
       "\\item[cityMANHATTAN] 0.575223968236696\n",
       "\\item[cityQUEENS] 0.508298477713837\n",
       "\\item[citySTATEN IS] 0.490835234502622\n",
       "\\end{description*}\n"
      ],
      "text/markdown": [
       "(Intercept)\n",
       ":   0.0577709722845105raceB\n",
       ":   0.518720346805422raceI\n",
       ":   0.483643425363739raceP\n",
       ":   0.505255749670486raceQ\n",
       ":   0.502469053133664raceU\n",
       ":   0.488234198115537raceW\n",
       ":   0.547574019798444raceZ\n",
       ":   0.434487823226256cityBROOKLYN\n",
       ":   0.415985333904845cityMANHATTAN\n",
       ":   0.575223968236696cityQUEENS\n",
       ":   0.508298477713837citySTATEN IS\n",
       ":   0.490835234502622\n",
       "\n"
      ],
      "text/plain": [
       "  (Intercept)         raceB         raceI         raceP         raceQ \n",
       "   0.05777097    0.51872035    0.48364343    0.50525575    0.50246905 \n",
       "        raceU         raceW         raceZ  cityBROOKLYN cityMANHATTAN \n",
       "   0.48823420    0.54757402    0.43448782    0.41598533    0.57522397 \n",
       "   cityQUEENS citySTATEN IS \n",
       "   0.50829848    0.49083523 "
      ]
     },
     "metadata": {},
     "output_type": "display_data"
    }
   ],
   "source": [
    "logit2prob(coef(race_city_arstmade))"
   ]
  },
  {
   "cell_type": "code",
   "execution_count": 14,
   "metadata": {},
   "outputs": [
    {
     "data": {
      "text/html": [
       "<style>\n",
       ".list-inline {list-style: none; margin:0; padding: 0}\n",
       ".list-inline>li {display: inline-block}\n",
       ".list-inline>li:not(:last-child)::after {content: \"\\00b7\"; padding: 0 .5ex}\n",
       "</style>\n",
       "<ol class=list-inline><li>0.0577709722845105</li><li>0.0619866275628961</li><li>0.0543097360711089</li><li>0.0589260662971701</li><li>0.0583109272507382</li><li>0.0552613890314697</li><li>0.0690812627178346</li><li>0.0449880977616302</li><li>0.0418449687027538</li><li>0.0766637491495041</li><li>0.0596047512120982</li><li>0.0558073257595932</li><li>&lt;NA&gt;</li><li>&lt;NA&gt;</li><li>&lt;NA&gt;</li><li>&lt;NA&gt;</li><li>&lt;NA&gt;</li><li>&lt;NA&gt;</li><li>&lt;NA&gt;</li><li>&lt;NA&gt;</li><li>&lt;NA&gt;</li><li>&lt;NA&gt;</li><li>&lt;NA&gt;</li><li>&lt;NA&gt;</li><li>&lt;NA&gt;</li><li>&lt;NA&gt;</li><li>&lt;NA&gt;</li><li>&lt;NA&gt;</li><li>&lt;NA&gt;</li><li>&lt;NA&gt;</li></ol>\n"
      ],
      "text/latex": [
       "\\begin{enumerate*}\n",
       "\\item 0.0577709722845105\n",
       "\\item 0.0619866275628961\n",
       "\\item 0.0543097360711089\n",
       "\\item 0.0589260662971701\n",
       "\\item 0.0583109272507382\n",
       "\\item 0.0552613890314697\n",
       "\\item 0.0690812627178346\n",
       "\\item 0.0449880977616302\n",
       "\\item 0.0418449687027538\n",
       "\\item 0.0766637491495041\n",
       "\\item 0.0596047512120982\n",
       "\\item 0.0558073257595932\n",
       "\\item <NA>\n",
       "\\item <NA>\n",
       "\\item <NA>\n",
       "\\item <NA>\n",
       "\\item <NA>\n",
       "\\item <NA>\n",
       "\\item <NA>\n",
       "\\item <NA>\n",
       "\\item <NA>\n",
       "\\item <NA>\n",
       "\\item <NA>\n",
       "\\item <NA>\n",
       "\\item <NA>\n",
       "\\item <NA>\n",
       "\\item <NA>\n",
       "\\item <NA>\n",
       "\\item <NA>\n",
       "\\item <NA>\n",
       "\\end{enumerate*}\n"
      ],
      "text/markdown": [
       "1. 0.0577709722845105\n",
       "2. 0.0619866275628961\n",
       "3. 0.0543097360711089\n",
       "4. 0.0589260662971701\n",
       "5. 0.0583109272507382\n",
       "6. 0.0552613890314697\n",
       "7. 0.0690812627178346\n",
       "8. 0.0449880977616302\n",
       "9. 0.0418449687027538\n",
       "10. 0.0766637491495041\n",
       "11. 0.0596047512120982\n",
       "12. 0.0558073257595932\n",
       "13. &lt;NA&gt;\n",
       "14. &lt;NA&gt;\n",
       "15. &lt;NA&gt;\n",
       "16. &lt;NA&gt;\n",
       "17. &lt;NA&gt;\n",
       "18. &lt;NA&gt;\n",
       "19. &lt;NA&gt;\n",
       "20. &lt;NA&gt;\n",
       "21. &lt;NA&gt;\n",
       "22. &lt;NA&gt;\n",
       "23. &lt;NA&gt;\n",
       "24. &lt;NA&gt;\n",
       "25. &lt;NA&gt;\n",
       "26. &lt;NA&gt;\n",
       "27. &lt;NA&gt;\n",
       "28. &lt;NA&gt;\n",
       "29. &lt;NA&gt;\n",
       "30. &lt;NA&gt;\n",
       "\n",
       "\n"
      ],
      "text/plain": [
       " [1] 0.05777097 0.06198663 0.05430974 0.05892607 0.05831093 0.05526139\n",
       " [7] 0.06908126 0.04498810 0.04184497 0.07666375 0.05960475 0.05580733\n",
       "[13]         NA         NA         NA         NA         NA         NA\n",
       "[19]         NA         NA         NA         NA         NA         NA\n",
       "[25]         NA         NA         NA         NA         NA         NA"
      ]
     },
     "metadata": {},
     "output_type": "display_data"
    }
   ],
   "source": [
    "logit2prob2(race_city_arstmade)"
   ]
  },
  {
   "cell_type": "code",
   "execution_count": null,
   "metadata": {},
   "outputs": [],
   "source": []
  }
 ],
 "metadata": {
  "kernelspec": {
   "display_name": "R",
   "language": "R",
   "name": "ir"
  },
  "language_info": {
   "codemirror_mode": "r",
   "file_extension": ".r",
   "mimetype": "text/x-r-source",
   "name": "R",
   "pygments_lexer": "r",
   "version": "4.0.0"
  }
 },
 "nbformat": 4,
 "nbformat_minor": 4
}
