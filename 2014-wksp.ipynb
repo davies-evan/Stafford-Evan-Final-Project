{
 "cells": [
  {
   "cell_type": "code",
   "execution_count": 30,
   "metadata": {},
   "outputs": [],
   "source": [
    "library(stringr)\n",
    "\n",
    "library(dplyr)\n",
    "\n",
    "library(ggplot2)\n",
    "\n",
    "fourteen_df <- read.csv(\"2014.csv\")"
   ]
  },
  {
   "cell_type": "code",
   "execution_count": 31,
   "metadata": {},
   "outputs": [],
   "source": [
    "# race\n",
    "# city\n",
    "# race*city\n",
    "\n",
    "fourteen_df <- filter(fourteen_df, fourteen_df$city != \" \")\n",
    "\n",
    "fourteen_df <- filter(fourteen_df, fourteen_df$race != \" \")"
   ]
  },
  {
   "cell_type": "code",
   "execution_count": 32,
   "metadata": {},
   "outputs": [],
   "source": [
    "quantconvert <- function(v) {\n",
    "    n <- length(v)\n",
    "    column <- rep(0, n)\n",
    "    \n",
    "    for (i in 1:n) {\n",
    "        if (v[i] == \"Y\") {\n",
    "            column[i] <- 1\n",
    "        }\n",
    "        else if (v[i] == \"N\"){\n",
    "            column[i] <- 0\n",
    "        }\n",
    "    }\n",
    "    return(column)\n",
    "}\n",
    "\n",
    "fourteen_df$arstmade_num <- quantconvert(fourteen_df$arstmade)"
   ]
  },
  {
   "cell_type": "code",
   "execution_count": 11,
   "metadata": {},
   "outputs": [
    {
     "data": {
      "text/plain": [
       "\n",
       "Call:\n",
       "glm(formula = arstmade_num ~ city, family = \"binomial\", data = fourteen_df)\n",
       "\n",
       "Deviance Residuals: \n",
       "    Min       1Q   Median       3Q      Max  \n",
       "-0.8105  -0.4898  -0.4644  -0.3275   2.4299  \n",
       "\n",
       "Coefficients:\n",
       "                  Estimate Std. Error z value Pr(>|z|)    \n",
       "(Intercept)       -1.08014    0.02783 -38.817  < 2e-16 ***\n",
       "cityBROOKLYN      -0.98001    0.03899 -25.133  < 2e-16 ***\n",
       "cityMANHATTAN      0.13562    0.03818   3.552 0.000382 ***\n",
       "cityQUEENS        -1.09274    0.03989 -27.391  < 2e-16 ***\n",
       "citySTATEN ISLAND -1.81850    0.06940 -26.203  < 2e-16 ***\n",
       "---\n",
       "Signif. codes:  0 ‘***’ 0.001 ‘**’ 0.01 ‘*’ 0.05 ‘.’ 0.1 ‘ ’ 1\n",
       "\n",
       "(Dispersion parameter for binomial family taken to be 1)\n",
       "\n",
       "    Null deviance: 38813  on 45786  degrees of freedom\n",
       "Residual deviance: 36619  on 45782  degrees of freedom\n",
       "AIC: 36629\n",
       "\n",
       "Number of Fisher Scoring iterations: 5\n"
      ]
     },
     "metadata": {},
     "output_type": "display_data"
    }
   ],
   "source": [
    "fourteen_df$arstmade_num <- factor(fourteen_df$arstmade_num)\n",
    "\n",
    "city_arstmade <- glm(arstmade_num ~ city, data = fourteen_df, family = \"binomial\")\n",
    "\n",
    "summary(city_arstmade)"
   ]
  },
  {
   "cell_type": "code",
   "execution_count": 17,
   "metadata": {},
   "outputs": [
    {
     "data": {
      "text/plain": [
       "\n",
       "Call:\n",
       "glm(formula = arstmade_num ~ race, family = \"binomial\", data = fourteen_df)\n",
       "\n",
       "Deviance Residuals: \n",
       "    Min       1Q   Median       3Q      Max  \n",
       "-0.6775  -0.5529  -0.5529  -0.5271   2.2020  \n",
       "\n",
       "Coefficients:\n",
       "            Estimate Std. Error z value Pr(>|z|)    \n",
       "(Intercept) -2.21242    0.07021 -31.510  < 2e-16 ***\n",
       "raceB        0.41151    0.07258   5.670 1.43e-08 ***\n",
       "raceI       -0.11916    0.26350  -0.452 0.651129    \n",
       "raceP        0.85765    0.08443  10.158  < 2e-16 ***\n",
       "raceQ        0.70443    0.07500   9.393  < 2e-16 ***\n",
       "raceU        0.25118    0.18910   1.328 0.184080    \n",
       "raceW        0.30869    0.08094   3.814 0.000137 ***\n",
       "raceZ        0.69589    0.11874   5.861 4.61e-09 ***\n",
       "---\n",
       "Signif. codes:  0 ‘***’ 0.001 ‘**’ 0.01 ‘*’ 0.05 ‘.’ 0.1 ‘ ’ 1\n",
       "\n",
       "(Dispersion parameter for binomial family taken to be 1)\n",
       "\n",
       "    Null deviance: 38813  on 45786  degrees of freedom\n",
       "Residual deviance: 38584  on 45779  degrees of freedom\n",
       "AIC: 38600\n",
       "\n",
       "Number of Fisher Scoring iterations: 4\n"
      ]
     },
     "metadata": {},
     "output_type": "display_data"
    }
   ],
   "source": [
    "fourteen_df$arstmade_num <- factor(fourteen_df$arstmade_num)\n",
    "\n",
    "race_arstmade <- glm(arstmade_num ~ race, data = fourteen_df, family = \"binomial\")\n",
    "\n",
    "summary(race_arstmade)"
   ]
  },
  {
   "cell_type": "code",
   "execution_count": 7,
   "metadata": {},
   "outputs": [
    {
     "data": {
      "text/plain": [
       "\n",
       "Call:\n",
       "glm(formula = arstmade_num ~ race + city + race * city, family = \"binomial\", \n",
       "    data = fourteen_df)\n",
       "\n",
       "Deviance Residuals: \n",
       "    Min       1Q   Median       3Q      Max  \n",
       "-0.8775  -0.5354  -0.4871  -0.3736   2.6017  \n",
       "\n",
       "Coefficients:\n",
       "                        Estimate Std. Error z value Pr(>|z|)    \n",
       "(Intercept)             -0.88239    0.34324  -2.571 0.010148 *  \n",
       "raceB                   -0.22309    0.34559  -0.646 0.518580    \n",
       "raceI                   -1.82566    1.08833  -1.677 0.093448 .  \n",
       "raceP                   -0.21014    0.35197  -0.597 0.550478    \n",
       "raceQ                   -0.13061    0.34662  -0.377 0.706317    \n",
       "raceU                   -0.41689    0.57440  -0.726 0.467969    \n",
       "raceW                   -0.68738    0.38907  -1.767 0.077271 .  \n",
       "raceZ                    0.09015    0.38482   0.234 0.814775    \n",
       "cityBROOKLYN            -1.34469    0.38908  -3.456 0.000548 ***\n",
       "cityMANHATTAN           -0.21622    0.39224  -0.551 0.581461    \n",
       "cityQUEENS              -1.52925    0.35456  -4.313 1.61e-05 ***\n",
       "citySTATEN ISLAND       -1.77085    0.57611  -3.074 0.002113 ** \n",
       "raceB:cityBROOKLYN       0.37830    0.39261   0.964 0.335261    \n",
       "raceI:cityBROOKLYN       0.96170    1.50439   0.639 0.522653    \n",
       "raceP:cityBROOKLYN       0.49131    0.41716   1.178 0.238892    \n",
       "raceQ:cityBROOKLYN       0.48760    0.39748   1.227 0.219931    \n",
       "raceU:cityBROOKLYN       0.14870    0.70627   0.211 0.833242    \n",
       "raceW:cityBROOKLYN       0.65096    0.44062   1.477 0.139573    \n",
       "raceZ:cityBROOKLYN      -0.10776    0.50078  -0.215 0.829615    \n",
       "raceB:cityMANHATTAN      0.31076    0.39609   0.785 0.432696    \n",
       "raceI:cityMANHATTAN      1.62499    1.28248   1.267 0.205130    \n",
       "raceP:cityMANHATTAN      0.40155    0.40863   0.983 0.325761    \n",
       "raceQ:cityMANHATTAN      0.35873    0.39887   0.899 0.368458    \n",
       "raceU:cityMANHATTAN      0.22765    0.66762   0.341 0.733111    \n",
       "raceW:cityMANHATTAN      1.03021    0.43932   2.345 0.019025 *  \n",
       "raceZ:cityMANHATTAN     -0.04136    0.45337  -0.091 0.927311    \n",
       "raceB:cityQUEENS         0.34210    0.35965   0.951 0.341508    \n",
       "raceI:cityQUEENS         1.92566    1.13679   1.694 0.090275 .  \n",
       "raceP:cityQUEENS         0.89105    0.38376   2.322 0.020238 *  \n",
       "raceQ:cityQUEENS         0.59298    0.36197   1.638 0.101382    \n",
       "raceU:cityQUEENS         0.38618    0.72041   0.536 0.591920    \n",
       "raceW:cityQUEENS         1.00346    0.40606   2.471 0.013466 *  \n",
       "raceZ:cityQUEENS        -1.01072    0.64387  -1.570 0.116472    \n",
       "raceB:citySTATEN ISLAND -0.13131    0.58497  -0.224 0.822390    \n",
       "raceI:citySTATEN ISLAND  1.70631    1.56877   1.088 0.276737    \n",
       "raceP:citySTATEN ISLAND -0.10703    0.68510  -0.156 0.875857    \n",
       "raceQ:citySTATEN ISLAND -0.30719    0.60490  -0.508 0.611565    \n",
       "raceU:citySTATEN ISLAND  0.23692    1.26602   0.187 0.851551    \n",
       "raceW:citySTATEN ISLAND  0.71354    0.61431   1.162 0.245420    \n",
       "raceZ:citySTATEN ISLAND -0.78681    0.93753  -0.839 0.401335    \n",
       "---\n",
       "Signif. codes:  0 ‘***’ 0.001 ‘**’ 0.01 ‘*’ 0.05 ‘.’ 0.1 ‘ ’ 1\n",
       "\n",
       "(Dispersion parameter for binomial family taken to be 1)\n",
       "\n",
       "    Null deviance: 38813  on 45786  degrees of freedom\n",
       "Residual deviance: 36508  on 45747  degrees of freedom\n",
       "AIC: 36588\n",
       "\n",
       "Number of Fisher Scoring iterations: 5\n"
      ]
     },
     "metadata": {},
     "output_type": "display_data"
    }
   ],
   "source": [
    "fourteen_df$arstmade_num <- factor(fourteen_df$arstmade_num)\n",
    "\n",
    "race_city_arstmade <- glm(arstmade_num ~ race + city + race*city, data = fourteen_df, family = \"binomial\")\n",
    "\n",
    "summary(race_city_arstmade)"
   ]
  },
  {
   "cell_type": "code",
   "execution_count": 35,
   "metadata": {},
   "outputs": [],
   "source": [
    "logit2prob <- function(logit){\n",
    "    odds <- exp(logit)\n",
    "    prob <- odds / (1 + odds)\n",
    "    return(prob)\n",
    "}\n",
    "\n"
   ]
  },
  {
   "cell_type": "code",
   "execution_count": 34,
   "metadata": {},
   "outputs": [],
   "source": [
    "logit2prob2 <- function(model){\n",
    "    int = coef(model)[1]\n",
    "    n = length(model)\n",
    "    output = rep(1,n)\n",
    "    output[1] = exp(int)/(1 + exp(int))\n",
    "    for (i in 2:n) {\n",
    "    logit <- int + coef(model)[i]\n",
    "    odds <- exp(logit)\n",
    "    prob <- odds / (1 + odds)\n",
    "    output[i] <- prob\n",
    "}\n",
    "    return(output)\n",
    "}\n",
    "\n"
   ]
  },
  {
   "cell_type": "code",
   "execution_count": 28,
   "metadata": {},
   "outputs": [
    {
     "data": {
      "image/png": "[encoded data removed]",
      "text/plain": [
       "plot without title"
      ]
     },
     "metadata": {
      "image/png": {
       "height": 420,
       "width": 420
      }
     },
     "output_type": "display_data"
    }
   ],
   "source": [
    "ggplot(fourteen_df, aes(x = race)) +\n",
    "    geom_bar(fill = \"darkblue\", colour = \"black\")"
   ]
  },
  {
   "cell_type": "code",
   "execution_count": 29,
   "metadata": {},
   "outputs": [
    {
     "data": {
      "image/png": "[encoded data removed]",
      "text/plain": [
       "plot without title"
      ]
     },
     "metadata": {
      "image/png": {
       "height": 420,
       "width": 420
      }
     },
     "output_type": "display_data"
    }
   ],
   "source": [
    "ggplot(fourteen_df, aes(x = city)) +\n",
    "    geom_bar(fill = \"darkblue\", colour = \"black\")"
   ]
  },
  {
   "cell_type": "code",
   "execution_count": 33,
   "metadata": {},
   "outputs": [
    {
     "data": {
      "text/plain": [
       "\n",
       "Call:\n",
       "glm(formula = arstmade_num ~ race + city, family = \"binomial\", \n",
       "    data = fourteen_df)\n",
       "\n",
       "Deviance Residuals: \n",
       "    Min       1Q   Median       3Q      Max  \n",
       "-0.8517  -0.5227  -0.4813  -0.3474   2.5828  \n",
       "\n",
       "Coefficients:\n",
       "                  Estimate Std. Error z value Pr(>|z|)    \n",
       "(Intercept)       -1.30231    0.07885 -16.516  < 2e-16 ***\n",
       "raceB              0.14617    0.07511   1.946  0.05165 .  \n",
       "raceI             -0.20027    0.26717  -0.750  0.45349    \n",
       "raceP              0.28569    0.08795   3.248  0.00116 ** \n",
       "raceQ              0.32171    0.07751   4.150 3.32e-05 ***\n",
       "raceU             -0.12642    0.19333  -0.654  0.51316    \n",
       "raceW              0.23878    0.08319   2.870  0.00410 ** \n",
       "raceZ              0.12989    0.12261   1.059  0.28944    \n",
       "cityBROOKLYN      -0.94098    0.03983 -23.627  < 2e-16 ***\n",
       "cityMANHATTAN      0.15313    0.03855   3.973 7.11e-05 ***\n",
       "cityQUEENS        -1.05664    0.04128 -25.599  < 2e-16 ***\n",
       "citySTATEN ISLAND -1.79655    0.07053 -25.474  < 2e-16 ***\n",
       "---\n",
       "Signif. codes:  0 ‘***’ 0.001 ‘**’ 0.01 ‘*’ 0.05 ‘.’ 0.1 ‘ ’ 1\n",
       "\n",
       "(Dispersion parameter for binomial family taken to be 1)\n",
       "\n",
       "    Null deviance: 38813  on 45786  degrees of freedom\n",
       "Residual deviance: 36573  on 45775  degrees of freedom\n",
       "AIC: 36597\n",
       "\n",
       "Number of Fisher Scoring iterations: 5\n"
      ]
     },
     "metadata": {},
     "output_type": "display_data"
    }
   ],
   "source": [
    "fourteen_df$arstmade_num <- factor(fourteen_df$arstmade_num)\n",
    "\n",
    "race_city_arstmade <- glm(arstmade_num ~ race + city, data = fourteen_df, family = \"binomial\")\n",
    "\n",
    "summary(race_city_arstmade)"
   ]
  },
  {
   "cell_type": "code",
   "execution_count": 36,
   "metadata": {},
   "outputs": [
    {
     "data": {
      "text/html": [
       "<style>\n",
       ".dl-inline {width: auto; margin:0; padding: 0}\n",
       ".dl-inline>dt, .dl-inline>dd {float: none; width: auto; display: inline-block}\n",
       ".dl-inline>dt::after {content: \":\\0020\"; padding-right: .5ex}\n",
       ".dl-inline>dt:not(:first-of-type) {padding-left: .5ex}\n",
       "</style><dl class=dl-inline><dt>(Intercept)</dt><dd>0.213776267858956</dd><dt>raceB</dt><dd>0.536478463464474</dd><dt>raceI</dt><dd>0.450098765774209</dd><dt>raceP</dt><dd>0.570941653577217</dd><dt>raceQ</dt><dd>0.579739851310894</dd><dt>raceU</dt><dd>0.468436541194552</dd><dt>raceW</dt><dd>0.559413548328533</dd><dt>raceZ</dt><dd>0.532426301003928</dd><dt>cityBROOKLYN</dt><dd>0.280701739595227</dd><dt>cityMANHATTAN</dt><dd>0.538208736503018</dd><dt>cityQUEENS</dt><dd>0.257952446569052</dd><dt>citySTATEN ISLAND</dt><dd>0.142271769642867</dd></dl>\n"
      ],
      "text/latex": [
       "\\begin{description*}\n",
       "\\item[(Intercept)] 0.213776267858956\n",
       "\\item[raceB] 0.536478463464474\n",
       "\\item[raceI] 0.450098765774209\n",
       "\\item[raceP] 0.570941653577217\n",
       "\\item[raceQ] 0.579739851310894\n",
       "\\item[raceU] 0.468436541194552\n",
       "\\item[raceW] 0.559413548328533\n",
       "\\item[raceZ] 0.532426301003928\n",
       "\\item[cityBROOKLYN] 0.280701739595227\n",
       "\\item[cityMANHATTAN] 0.538208736503018\n",
       "\\item[cityQUEENS] 0.257952446569052\n",
       "\\item[citySTATEN ISLAND] 0.142271769642867\n",
       "\\end{description*}\n"
      ],
      "text/markdown": [
       "(Intercept)\n",
       ":   0.213776267858956raceB\n",
       ":   0.536478463464474raceI\n",
       ":   0.450098765774209raceP\n",
       ":   0.570941653577217raceQ\n",
       ":   0.579739851310894raceU\n",
       ":   0.468436541194552raceW\n",
       ":   0.559413548328533raceZ\n",
       ":   0.532426301003928cityBROOKLYN\n",
       ":   0.280701739595227cityMANHATTAN\n",
       ":   0.538208736503018cityQUEENS\n",
       ":   0.257952446569052citySTATEN ISLAND\n",
       ":   0.142271769642867\n",
       "\n"
      ],
      "text/plain": [
       "      (Intercept)             raceB             raceI             raceP \n",
       "        0.2137763         0.5364785         0.4500988         0.5709417 \n",
       "            raceQ             raceU             raceW             raceZ \n",
       "        0.5797399         0.4684365         0.5594135         0.5324263 \n",
       "     cityBROOKLYN     cityMANHATTAN        cityQUEENS citySTATEN ISLAND \n",
       "        0.2807017         0.5382087         0.2579524         0.1422718 "
      ]
     },
     "metadata": {},
     "output_type": "display_data"
    }
   ],
   "source": [
    "logit2prob(coef(race_city_arstmade))"
   ]
  },
  {
   "cell_type": "code",
   "execution_count": 37,
   "metadata": {},
   "outputs": [
    {
     "data": {
      "text/html": [
       "<style>\n",
       ".list-inline {list-style: none; margin:0; padding: 0}\n",
       ".list-inline>li {display: inline-block}\n",
       ".list-inline>li:not(:last-child)::after {content: \"\\00b7\"; padding: 0 .5ex}\n",
       "</style>\n",
       "<ol class=list-inline><li>0.213776267858956</li><li>0.239369768287463</li><li>0.182040585948316</li><li>0.265686832739024</li><li>0.272771584721112</li><li>0.193296119317637</li><li>0.256635618478006</li><li>0.236417131966277</li><li>0.0959294108528922</li><li>0.240639272271454</li><li>0.0863570436345089</li><li>0.0431543194338689</li><li>&lt;NA&gt;</li><li>&lt;NA&gt;</li><li>&lt;NA&gt;</li><li>&lt;NA&gt;</li><li>&lt;NA&gt;</li><li>&lt;NA&gt;</li><li>&lt;NA&gt;</li><li>&lt;NA&gt;</li><li>&lt;NA&gt;</li><li>&lt;NA&gt;</li><li>&lt;NA&gt;</li><li>&lt;NA&gt;</li><li>&lt;NA&gt;</li><li>&lt;NA&gt;</li><li>&lt;NA&gt;</li><li>&lt;NA&gt;</li><li>&lt;NA&gt;</li><li>&lt;NA&gt;</li></ol>\n"
      ],
      "text/latex": [
       "\\begin{enumerate*}\n",
       "\\item 0.213776267858956\n",
       "\\item 0.239369768287463\n",
       "\\item 0.182040585948316\n",
       "\\item 0.265686832739024\n",
       "\\item 0.272771584721112\n",
       "\\item 0.193296119317637\n",
       "\\item 0.256635618478006\n",
       "\\item 0.236417131966277\n",
       "\\item 0.0959294108528922\n",
       "\\item 0.240639272271454\n",
       "\\item 0.0863570436345089\n",
       "\\item 0.0431543194338689\n",
       "\\item <NA>\n",
       "\\item <NA>\n",
       "\\item <NA>\n",
       "\\item <NA>\n",
       "\\item <NA>\n",
       "\\item <NA>\n",
       "\\item <NA>\n",
       "\\item <NA>\n",
       "\\item <NA>\n",
       "\\item <NA>\n",
       "\\item <NA>\n",
       "\\item <NA>\n",
       "\\item <NA>\n",
       "\\item <NA>\n",
       "\\item <NA>\n",
       "\\item <NA>\n",
       "\\item <NA>\n",
       "\\item <NA>\n",
       "\\end{enumerate*}\n"
      ],
      "text/markdown": [
       "1. 0.213776267858956\n",
       "2. 0.239369768287463\n",
       "3. 0.182040585948316\n",
       "4. 0.265686832739024\n",
       "5. 0.272771584721112\n",
       "6. 0.193296119317637\n",
       "7. 0.256635618478006\n",
       "8. 0.236417131966277\n",
       "9. 0.0959294108528922\n",
       "10. 0.240639272271454\n",
       "11. 0.0863570436345089\n",
       "12. 0.0431543194338689\n",
       "13. &lt;NA&gt;\n",
       "14. &lt;NA&gt;\n",
       "15. &lt;NA&gt;\n",
       "16. &lt;NA&gt;\n",
       "17. &lt;NA&gt;\n",
       "18. &lt;NA&gt;\n",
       "19. &lt;NA&gt;\n",
       "20. &lt;NA&gt;\n",
       "21. &lt;NA&gt;\n",
       "22. &lt;NA&gt;\n",
       "23. &lt;NA&gt;\n",
       "24. &lt;NA&gt;\n",
       "25. &lt;NA&gt;\n",
       "26. &lt;NA&gt;\n",
       "27. &lt;NA&gt;\n",
       "28. &lt;NA&gt;\n",
       "29. &lt;NA&gt;\n",
       "30. &lt;NA&gt;\n",
       "\n",
       "\n"
      ],
      "text/plain": [
       " [1] 0.21377627 0.23936977 0.18204059 0.26568683 0.27277158 0.19329612\n",
       " [7] 0.25663562 0.23641713 0.09592941 0.24063927 0.08635704 0.04315432\n",
       "[13]         NA         NA         NA         NA         NA         NA\n",
       "[19]         NA         NA         NA         NA         NA         NA\n",
       "[25]         NA         NA         NA         NA         NA         NA"
      ]
     },
     "metadata": {},
     "output_type": "display_data"
    }
   ],
   "source": [
    "logit2prob2(race_city_arstmade)"
   ]
  },
  {
   "cell_type": "code",
   "execution_count": null,
   "metadata": {},
   "outputs": [],
   "source": []
  }
 ],
 "metadata": {
  "kernelspec": {
   "display_name": "R",
   "language": "R",
   "name": "ir"
  },
  "language_info": {
   "codemirror_mode": "r",
   "file_extension": ".r",
   "mimetype": "text/x-r-source",
   "name": "R",
   "pygments_lexer": "r",
   "version": "4.0.0"
  }
 },
 "nbformat": 4,
 "nbformat_minor": 4
}
