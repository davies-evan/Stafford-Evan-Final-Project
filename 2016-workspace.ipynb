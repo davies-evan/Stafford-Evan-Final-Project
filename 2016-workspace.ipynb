{
 "cells": [
  {
   "cell_type": "code",
   "execution_count": 2,
   "metadata": {},
   "outputs": [
    {
     "name": "stderr",
     "output_type": "stream",
     "text": [
      "Warning message:\n",
      "“package ‘dplyr’ was built under R version 4.0.2”\n",
      "\n",
      "Attaching package: ‘dplyr’\n",
      "\n",
      "\n",
      "The following objects are masked from ‘package:stats’:\n",
      "\n",
      "    filter, lag\n",
      "\n",
      "\n",
      "The following objects are masked from ‘package:base’:\n",
      "\n",
      "    intersect, setdiff, setequal, union\n",
      "\n",
      "\n",
      "Warning message:\n",
      "“package ‘ggplot2’ was built under R version 4.0.1”\n"
     ]
    }
   ],
   "source": [
    "library(stringr)\n",
    "\n",
    "library(dplyr)\n",
    "\n",
    "library(ggplot2)\n",
    "\n",
    "sixteen_df <- read.csv(\"sqf-2016.csv\")"
   ]
  },
  {
   "cell_type": "code",
   "execution_count": 3,
   "metadata": {},
   "outputs": [
    {
     "data": {
      "text/html": [
       "<table>\n",
       "<caption>A data.frame: 6 × 112</caption>\n",
       "<thead>\n",
       "\t<tr><th></th><th scope=col>year</th><th scope=col>pct</th><th scope=col>ser_num</th><th scope=col>datestop</th><th scope=col>timestop</th><th scope=col>recstat</th><th scope=col>inout</th><th scope=col>trhsloc</th><th scope=col>perobs</th><th scope=col>crimsusp</th><th scope=col>⋯</th><th scope=col>zip</th><th scope=col>addrpct</th><th scope=col>sector</th><th scope=col>beat</th><th scope=col>post</th><th scope=col>xcoord</th><th scope=col>ycoord</th><th scope=col>dettypCM</th><th scope=col>lineCM</th><th scope=col>detailCM</th></tr>\n",
       "\t<tr><th></th><th scope=col>&lt;int&gt;</th><th scope=col>&lt;int&gt;</th><th scope=col>&lt;int&gt;</th><th scope=col>&lt;int&gt;</th><th scope=col>&lt;int&gt;</th><th scope=col>&lt;chr&gt;</th><th scope=col>&lt;chr&gt;</th><th scope=col>&lt;chr&gt;</th><th scope=col>&lt;int&gt;</th><th scope=col>&lt;chr&gt;</th><th scope=col>⋯</th><th scope=col>&lt;lgl&gt;</th><th scope=col>&lt;int&gt;</th><th scope=col>&lt;chr&gt;</th><th scope=col>&lt;chr&gt;</th><th scope=col>&lt;int&gt;</th><th scope=col>&lt;int&gt;</th><th scope=col>&lt;int&gt;</th><th scope=col>&lt;chr&gt;</th><th scope=col>&lt;int&gt;</th><th scope=col>&lt;int&gt;</th></tr>\n",
       "</thead>\n",
       "<tbody>\n",
       "\t<tr><th scope=row>1</th><td>2016</td><td>41</td><td>22</td><td>2072016</td><td>100</td><td>A</td><td>O</td><td>P</td><td>1</td><td>BURG       </td><td>⋯</td><td>NA</td><td>41</td><td>B</td><td>2</td><td>NA</td><td>1013353</td><td>234000</td><td>CM</td><td>1</td><td> 14</td></tr>\n",
       "\t<tr><th scope=row>2</th><td>2016</td><td>10</td><td>22</td><td>2182016</td><td> 30</td><td>1</td><td>O</td><td>P</td><td>8</td><td>MISDEMEANOR</td><td>⋯</td><td>NA</td><td>10</td><td>D</td><td> </td><td>NA</td><td> 983478</td><td>212373</td><td>CM</td><td>1</td><td> 28</td></tr>\n",
       "\t<tr><th scope=row>3</th><td>2016</td><td>66</td><td> 1</td><td>1012016</td><td> 30</td><td>1</td><td>I</td><td>P</td><td>2</td><td>FEL        </td><td>⋯</td><td>NA</td><td>66</td><td>F</td><td> </td><td>NA</td><td> 988340</td><td>172111</td><td>CM</td><td>1</td><td>  9</td></tr>\n",
       "\t<tr><th scope=row>4</th><td>2016</td><td>47</td><td>18</td><td>1012016</td><td> 40</td><td>1</td><td>O</td><td>H</td><td>1</td><td>FEL        </td><td>⋯</td><td>NA</td><td>47</td><td>C</td><td> </td><td>NA</td><td>     NA</td><td>    NA</td><td>CM</td><td>1</td><td> 20</td></tr>\n",
       "\t<tr><th scope=row>5</th><td>2016</td><td>79</td><td> 1</td><td>1012016</td><td> 50</td><td>1</td><td>O</td><td>P</td><td>3</td><td>D.W.I.     </td><td>⋯</td><td>NA</td><td>79</td><td>G</td><td>4</td><td>NA</td><td> 998197</td><td>187413</td><td>CM</td><td>1</td><td>112</td></tr>\n",
       "\t<tr><th scope=row>6</th><td>2016</td><td>73</td><td> 1</td><td>1012016</td><td>100</td><td>1</td><td>O</td><td>P</td><td>1</td><td>FELONY     </td><td>⋯</td><td>NA</td><td>73</td><td>B</td><td>2</td><td>NA</td><td>1008226</td><td>186458</td><td>CM</td><td>1</td><td> 20</td></tr>\n",
       "</tbody>\n",
       "</table>\n"
      ],
      "text/latex": [
       "A data.frame: 6 × 112\n",
       "\\begin{tabular}{r|lllllllllllllllllllll}\n",
       "  & year & pct & ser\\_num & datestop & timestop & recstat & inout & trhsloc & perobs & crimsusp & ⋯ & zip & addrpct & sector & beat & post & xcoord & ycoord & dettypCM & lineCM & detailCM\\\\\n",
       "  & <int> & <int> & <int> & <int> & <int> & <chr> & <chr> & <chr> & <int> & <chr> & ⋯ & <lgl> & <int> & <chr> & <chr> & <int> & <int> & <int> & <chr> & <int> & <int>\\\\\n",
       "\\hline\n",
       "\t1 & 2016 & 41 & 22 & 2072016 & 100 & A & O & P & 1 & BURG        & ⋯ & NA & 41 & B & 2 & NA & 1013353 & 234000 & CM & 1 &  14\\\\\n",
       "\t2 & 2016 & 10 & 22 & 2182016 &  30 & 1 & O & P & 8 & MISDEMEANOR & ⋯ & NA & 10 & D &   & NA &  983478 & 212373 & CM & 1 &  28\\\\\n",
       "\t3 & 2016 & 66 &  1 & 1012016 &  30 & 1 & I & P & 2 & FEL         & ⋯ & NA & 66 & F &   & NA &  988340 & 172111 & CM & 1 &   9\\\\\n",
       "\t4 & 2016 & 47 & 18 & 1012016 &  40 & 1 & O & H & 1 & FEL         & ⋯ & NA & 47 & C &   & NA &      NA &     NA & CM & 1 &  20\\\\\n",
       "\t5 & 2016 & 79 &  1 & 1012016 &  50 & 1 & O & P & 3 & D.W.I.      & ⋯ & NA & 79 & G & 4 & NA &  998197 & 187413 & CM & 1 & 112\\\\\n",
       "\t6 & 2016 & 73 &  1 & 1012016 & 100 & 1 & O & P & 1 & FELONY      & ⋯ & NA & 73 & B & 2 & NA & 1008226 & 186458 & CM & 1 &  20\\\\\n",
       "\\end{tabular}\n"
      ],
      "text/markdown": [
       "\n",
       "A data.frame: 6 × 112\n",
       "\n",
       "| <!--/--> | year &lt;int&gt; | pct &lt;int&gt; | ser_num &lt;int&gt; | datestop &lt;int&gt; | timestop &lt;int&gt; | recstat &lt;chr&gt; | inout &lt;chr&gt; | trhsloc &lt;chr&gt; | perobs &lt;int&gt; | crimsusp &lt;chr&gt; | ⋯ ⋯ | zip &lt;lgl&gt; | addrpct &lt;int&gt; | sector &lt;chr&gt; | beat &lt;chr&gt; | post &lt;int&gt; | xcoord &lt;int&gt; | ycoord &lt;int&gt; | dettypCM &lt;chr&gt; | lineCM &lt;int&gt; | detailCM &lt;int&gt; |\n",
       "|---|---|---|---|---|---|---|---|---|---|---|---|---|---|---|---|---|---|---|---|---|---|\n",
       "| 1 | 2016 | 41 | 22 | 2072016 | 100 | A | O | P | 1 | BURG        | ⋯ | NA | 41 | B | 2 | NA | 1013353 | 234000 | CM | 1 |  14 |\n",
       "| 2 | 2016 | 10 | 22 | 2182016 |  30 | 1 | O | P | 8 | MISDEMEANOR | ⋯ | NA | 10 | D | <!----> | NA |  983478 | 212373 | CM | 1 |  28 |\n",
       "| 3 | 2016 | 66 |  1 | 1012016 |  30 | 1 | I | P | 2 | FEL         | ⋯ | NA | 66 | F | <!----> | NA |  988340 | 172111 | CM | 1 |   9 |\n",
       "| 4 | 2016 | 47 | 18 | 1012016 |  40 | 1 | O | H | 1 | FEL         | ⋯ | NA | 47 | C | <!----> | NA |      NA |     NA | CM | 1 |  20 |\n",
       "| 5 | 2016 | 79 |  1 | 1012016 |  50 | 1 | O | P | 3 | D.W.I.      | ⋯ | NA | 79 | G | 4 | NA |  998197 | 187413 | CM | 1 | 112 |\n",
       "| 6 | 2016 | 73 |  1 | 1012016 | 100 | 1 | O | P | 1 | FELONY      | ⋯ | NA | 73 | B | 2 | NA | 1008226 | 186458 | CM | 1 |  20 |\n",
       "\n"
      ],
      "text/plain": [
       "  year pct ser_num datestop timestop recstat inout trhsloc perobs crimsusp    ⋯\n",
       "1 2016 41  22      2072016  100      A       O     P       1      BURG        ⋯\n",
       "2 2016 10  22      2182016   30      1       O     P       8      MISDEMEANOR ⋯\n",
       "3 2016 66   1      1012016   30      1       I     P       2      FEL         ⋯\n",
       "4 2016 47  18      1012016   40      1       O     H       1      FEL         ⋯\n",
       "5 2016 79   1      1012016   50      1       O     P       3      D.W.I.      ⋯\n",
       "6 2016 73   1      1012016  100      1       O     P       1      FELONY      ⋯\n",
       "  zip addrpct sector beat post xcoord  ycoord dettypCM lineCM detailCM\n",
       "1 NA  41      B      2    NA   1013353 234000 CM       1       14     \n",
       "2 NA  10      D           NA    983478 212373 CM       1       28     \n",
       "3 NA  66      F           NA    988340 172111 CM       1        9     \n",
       "4 NA  47      C           NA        NA     NA CM       1       20     \n",
       "5 NA  79      G      4    NA    998197 187413 CM       1      112     \n",
       "6 NA  73      B      2    NA   1008226 186458 CM       1       20     "
      ]
     },
     "metadata": {},
     "output_type": "display_data"
    }
   ],
   "source": [
    "head(sixteen_df)"
   ]
  },
  {
   "cell_type": "code",
   "execution_count": 15,
   "metadata": {},
   "outputs": [],
   "source": [
    "sixteen_df_uniq <- unique(sixteen_df[, c(\"datestop\", \"timestop\", \"crimsusp\", \"sex\", \"race\", \"age\", \"city\", \"arstmade\")])"
   ]
  },
  {
   "cell_type": "code",
   "execution_count": 16,
   "metadata": {},
   "outputs": [
    {
     "data": {
      "text/html": [
       "<table>\n",
       "<caption>A data.frame: 5 × 8</caption>\n",
       "<thead>\n",
       "\t<tr><th></th><th scope=col>datestop</th><th scope=col>timestop</th><th scope=col>crimsusp</th><th scope=col>sex</th><th scope=col>race</th><th scope=col>age</th><th scope=col>city</th><th scope=col>arstmade</th></tr>\n",
       "\t<tr><th></th><th scope=col>&lt;int&gt;</th><th scope=col>&lt;int&gt;</th><th scope=col>&lt;chr&gt;</th><th scope=col>&lt;chr&gt;</th><th scope=col>&lt;chr&gt;</th><th scope=col>&lt;chr&gt;</th><th scope=col>&lt;chr&gt;</th><th scope=col>&lt;chr&gt;</th></tr>\n",
       "</thead>\n",
       "<tbody>\n",
       "\t<tr><th scope=row>1</th><td>2072016</td><td>100</td><td>BURG       </td><td>M</td><td>B</td><td>48</td><td>BRONX    </td><td>N</td></tr>\n",
       "\t<tr><th scope=row>2</th><td>2182016</td><td> 30</td><td>MISDEMEANOR</td><td>M</td><td>W</td><td>20</td><td>MANHATTAN</td><td>N</td></tr>\n",
       "\t<tr><th scope=row>3</th><td>1012016</td><td> 30</td><td>FEL        </td><td>M</td><td>P</td><td>34</td><td>BROOKLYN </td><td>Y</td></tr>\n",
       "\t<tr><th scope=row>4</th><td>1012016</td><td> 40</td><td>FEL        </td><td>M</td><td>B</td><td>33</td><td>BRONX    </td><td>N</td></tr>\n",
       "\t<tr><th scope=row>5</th><td>1012016</td><td> 50</td><td>D.W.I.     </td><td>M</td><td>B</td><td>22</td><td>BROOKLYN </td><td>N</td></tr>\n",
       "</tbody>\n",
       "</table>\n"
      ],
      "text/latex": [
       "A data.frame: 5 × 8\n",
       "\\begin{tabular}{r|llllllll}\n",
       "  & datestop & timestop & crimsusp & sex & race & age & city & arstmade\\\\\n",
       "  & <int> & <int> & <chr> & <chr> & <chr> & <chr> & <chr> & <chr>\\\\\n",
       "\\hline\n",
       "\t1 & 2072016 & 100 & BURG        & M & B & 48 & BRONX     & N\\\\\n",
       "\t2 & 2182016 &  30 & MISDEMEANOR & M & W & 20 & MANHATTAN & N\\\\\n",
       "\t3 & 1012016 &  30 & FEL         & M & P & 34 & BROOKLYN  & Y\\\\\n",
       "\t4 & 1012016 &  40 & FEL         & M & B & 33 & BRONX     & N\\\\\n",
       "\t5 & 1012016 &  50 & D.W.I.      & M & B & 22 & BROOKLYN  & N\\\\\n",
       "\\end{tabular}\n"
      ],
      "text/markdown": [
       "\n",
       "A data.frame: 5 × 8\n",
       "\n",
       "| <!--/--> | datestop &lt;int&gt; | timestop &lt;int&gt; | crimsusp &lt;chr&gt; | sex &lt;chr&gt; | race &lt;chr&gt; | age &lt;chr&gt; | city &lt;chr&gt; | arstmade &lt;chr&gt; |\n",
       "|---|---|---|---|---|---|---|---|---|\n",
       "| 1 | 2072016 | 100 | BURG        | M | B | 48 | BRONX     | N |\n",
       "| 2 | 2182016 |  30 | MISDEMEANOR | M | W | 20 | MANHATTAN | N |\n",
       "| 3 | 1012016 |  30 | FEL         | M | P | 34 | BROOKLYN  | Y |\n",
       "| 4 | 1012016 |  40 | FEL         | M | B | 33 | BRONX     | N |\n",
       "| 5 | 1012016 |  50 | D.W.I.      | M | B | 22 | BROOKLYN  | N |\n",
       "\n"
      ],
      "text/plain": [
       "  datestop timestop crimsusp    sex race age city      arstmade\n",
       "1 2072016  100      BURG        M   B    48  BRONX     N       \n",
       "2 2182016   30      MISDEMEANOR M   W    20  MANHATTAN N       \n",
       "3 1012016   30      FEL         M   P    34  BROOKLYN  Y       \n",
       "4 1012016   40      FEL         M   B    33  BRONX     N       \n",
       "5 1012016   50      D.W.I.      M   B    22  BROOKLYN  N       "
      ]
     },
     "metadata": {},
     "output_type": "display_data"
    }
   ],
   "source": [
    "head(sixteen_df_uniq, 5)"
   ]
  },
  {
   "cell_type": "code",
   "execution_count": 17,
   "metadata": {},
   "outputs": [],
   "source": [
    "\n",
    "quantconvert <- function(v) {\n",
    "    n <- length(v)\n",
    "    column <- rep(0, n)\n",
    "    \n",
    "    for (i in 1:n) {\n",
    "        if (v[i] == \"Y\") {\n",
    "            column[i] <- 1\n",
    "        }\n",
    "        else if (v[i] == \"N\"){\n",
    "            column[i] <- 0\n",
    "        }\n",
    "    }\n",
    "    return(column)\n",
    "}\n",
    "\n",
    "sixteen_df_uniq$arstmade_num <- quantconvert(sixteen_df_uniq$arstmade)"
   ]
  },
  {
   "cell_type": "code",
   "execution_count": 26,
   "metadata": {},
   "outputs": [
    {
     "data": {
      "text/plain": [
       "\n",
       "Call:\n",
       "glm(formula = arstmade_num ~ city, family = \"binomial\", data = sixteen_df_uniq)\n",
       "\n",
       "Deviance Residuals: \n",
       "    Min       1Q   Median       3Q      Max  \n",
       "-0.7738  -0.7219  -0.6962  -0.6265   1.8573  \n",
       "\n",
       "Coefficients:\n",
       "              Estimate Std. Error z value Pr(>|z|)\n",
       "(Intercept)    -10.566    119.468  -0.088    0.930\n",
       "cityBRONX        9.513    119.468   0.080    0.937\n",
       "cityBROOKLYN     9.272    119.468   0.078    0.938\n",
       "cityMANHATTAN    9.354    119.468   0.078    0.938\n",
       "cityQUEENS       9.038    119.468   0.076    0.940\n",
       "citySTATEN IS    9.325    119.468   0.078    0.938\n",
       "\n",
       "(Dispersion parameter for binomial family taken to be 1)\n",
       "\n",
       "    Null deviance: 12459  on 11888  degrees of freedom\n",
       "Residual deviance: 12404  on 11883  degrees of freedom\n",
       "AIC: 12416\n",
       "\n",
       "Number of Fisher Scoring iterations: 9\n"
      ]
     },
     "metadata": {},
     "output_type": "display_data"
    }
   ],
   "source": [
    "\n",
    "\n",
    "# Regression below\n",
    "\n",
    "sixteen_df_uniq$arstmade_num <- factor(sixteen_df_uniq$arstmade_num)\n",
    "\n",
    "city_arstmade <- glm(arstmade_num ~ city, data = sixteen_df_uniq, family = \"binomial\")\n",
    "\n",
    "summary(city_arstmade)\n",
    "\n",
    "#Note: The high p-values tell us that the above regression coefficients are NOT statistically significant, right?"
   ]
  },
  {
   "cell_type": "code",
   "execution_count": 23,
   "metadata": {},
   "outputs": [
    {
     "data": {
      "text/plain": [
       "\n",
       "              BRONX  BROOKLYN MANHATTAN    QUEENS STATEN IS \n",
       "        1      2385      3397      2411      3075       620 "
      ]
     },
     "metadata": {},
     "output_type": "display_data"
    }
   ],
   "source": [
    "table(sixteen_df_uniq$city)"
   ]
  },
  {
   "cell_type": "code",
   "execution_count": 52,
   "metadata": {},
   "outputs": [
    {
     "data": {
      "text/plain": [
       "\n",
       "Call:\n",
       "glm(formula = arstmade_num ~ race, family = \"binomial\", data = sixteen_df_uniq)\n",
       "\n",
       "Deviance Residuals: \n",
       "    Min       1Q   Median       3Q      Max  \n",
       "-0.7748  -0.6896  -0.6810  -0.5915   1.9367  \n",
       "\n",
       "Coefficients:\n",
       "            Estimate Std. Error z value Pr(>|z|)\n",
       "(Intercept)  -10.566    119.468  -0.088    0.930\n",
       "raceA          8.912    119.468   0.075    0.941\n",
       "raceB          9.223    119.468   0.077    0.938\n",
       "raceI          8.892    119.469   0.074    0.941\n",
       "raceP          9.369    119.468   0.078    0.937\n",
       "raceQ          9.516    119.468   0.080    0.937\n",
       "raceU          9.439    119.468   0.079    0.937\n",
       "raceW          9.251    119.468   0.077    0.938\n",
       "raceZ          8.857    119.468   0.074    0.941\n",
       "\n",
       "(Dispersion parameter for binomial family taken to be 1)\n",
       "\n",
       "    Null deviance: 12459  on 11888  degrees of freedom\n",
       "Residual deviance: 12407  on 11880  degrees of freedom\n",
       "AIC: 12425\n",
       "\n",
       "Number of Fisher Scoring iterations: 9\n"
      ]
     },
     "metadata": {},
     "output_type": "display_data"
    },
    {
     "data": {
      "text/plain": [
       "\n",
       "        A    B    I    P    Q    U    W    Z \n",
       "   1  704 6190   38  845 2661   94 1219  137 "
      ]
     },
     "metadata": {},
     "output_type": "display_data"
    }
   ],
   "source": [
    "sixteen_df_uniq$arstmade_num <- factor(sixteen_df_uniq$arstmade_num)\n",
    "\n",
    "race_arstmade <- glm(arstmade_num ~ race, data = sixteen_df_uniq, family = \"binomial\")\n",
    "\n",
    "summary(race_arstmade)\n",
    "\n",
    "table(sixteen_df_uniq$race)\n"
   ]
  },
  {
   "cell_type": "code",
   "execution_count": 57,
   "metadata": {},
   "outputs": [
    {
     "data": {
      "text/plain": [
       "\n",
       "Call:\n",
       "glm(formula = arstmade_num ~ race + city, family = \"binomial\", \n",
       "    data = sixteen_df_uniq)\n",
       "\n",
       "Deviance Residuals: \n",
       "    Min       1Q   Median       3Q      Max  \n",
       "-0.8402  -0.7166  -0.6759  -0.5725   2.0367  \n",
       "\n",
       "Coefficients: (1 not defined because of singularities)\n",
       "               Estimate Std. Error z value Pr(>|z|)  \n",
       "(Intercept)   -10.56603  119.46804  -0.088   0.9295  \n",
       "raceA           9.10635  119.46813   0.076   0.9392  \n",
       "raceB           9.24568  119.46809   0.077   0.9383  \n",
       "raceI           9.03332  119.46892   0.076   0.9397  \n",
       "raceP           9.36050  119.46811   0.078   0.9375  \n",
       "raceQ           9.54066  119.46809   0.080   0.9363  \n",
       "raceU           9.44197  119.46832   0.079   0.9370  \n",
       "raceW           9.30806  119.46809   0.078   0.9379  \n",
       "raceZ           8.89213  119.46832   0.074   0.9407  \n",
       "cityBRONX       0.16556    0.10955   1.511   0.1307  \n",
       "cityBROOKLYN   -0.03989    0.10651  -0.375   0.7080  \n",
       "cityMANHATTAN   0.02956    0.10962   0.270   0.7874  \n",
       "cityQUEENS     -0.26588    0.10947  -2.429   0.0152 *\n",
       "citySTATEN IS        NA         NA      NA       NA  \n",
       "---\n",
       "Signif. codes:  0 ‘***’ 0.001 ‘**’ 0.01 ‘*’ 0.05 ‘.’ 0.1 ‘ ’ 1\n",
       "\n",
       "(Dispersion parameter for binomial family taken to be 1)\n",
       "\n",
       "    Null deviance: 12459  on 11888  degrees of freedom\n",
       "Residual deviance: 12366  on 11876  degrees of freedom\n",
       "AIC: 12392\n",
       "\n",
       "Number of Fisher Scoring iterations: 9\n"
      ]
     },
     "metadata": {},
     "output_type": "display_data"
    }
   ],
   "source": [
    "sixteen_df_uniq$arstmade_num <- factor(sixteen_df_uniq$arstmade_num)\n",
    "\n",
    "race_city_arstmade <- glm(arstmade_num ~ race + city, data = sixteen_df_uniq, family = \"binomial\")\n",
    "\n",
    "summary(race_city_arstmade)"
   ]
  },
  {
   "cell_type": "code",
   "execution_count": 30,
   "metadata": {},
   "outputs": [
    {
     "data": {
      "text/plain": [
       "\n",
       "Call:\n",
       "glm(formula = arstmade_num ~ city, family = \"binomial\", data = sixteen_df_uniq_cln)\n",
       "\n",
       "Deviance Residuals: \n",
       "    Min       1Q   Median       3Q      Max  \n",
       "-0.7738  -0.7219  -0.6962  -0.6265   1.8573  \n",
       "\n",
       "Coefficients:\n",
       "              Estimate Std. Error z value Pr(>|z|)    \n",
       "(Intercept)   -1.05274    0.04676 -22.514  < 2e-16 ***\n",
       "cityBROOKLYN  -0.24119    0.06269  -3.848 0.000119 ***\n",
       "cityMANHATTAN -0.15916    0.06733  -2.364 0.018077 *  \n",
       "cityQUEENS    -0.47578    0.06638  -7.167 7.67e-13 ***\n",
       "citySTATEN IS -0.18866    0.10705  -1.762 0.078011 .  \n",
       "---\n",
       "Signif. codes:  0 ‘***’ 0.001 ‘**’ 0.01 ‘*’ 0.05 ‘.’ 0.1 ‘ ’ 1\n",
       "\n",
       "(Dispersion parameter for binomial family taken to be 1)\n",
       "\n",
       "    Null deviance: 12458  on 11887  degrees of freedom\n",
       "Residual deviance: 12404  on 11883  degrees of freedom\n",
       "AIC: 12414\n",
       "\n",
       "Number of Fisher Scoring iterations: 4\n"
      ]
     },
     "metadata": {},
     "output_type": "display_data"
    }
   ],
   "source": [
    "#Paul says to filter out the rows with empty city columns and then re-run regression\n",
    "\n",
    "sixteen_df_uniq_cln <- filter(sixteen_df_uniq, sixteen_df_uniq$city != \" \")\n",
    "\n",
    "\n",
    "\n",
    "sixteen_df_uniq_cln$arstmade_num <- factor(sixteen_df_uniq_cln$arstmade_num)\n",
    "\n",
    "city_arstmade2 <- glm(arstmade_num ~ city, data = sixteen_df_uniq_cln, family = \"binomial\")\n",
    "\n",
    "summary(city_arstmade2)"
   ]
  },
  {
   "cell_type": "code",
   "execution_count": 34,
   "metadata": {},
   "outputs": [
    {
     "ename": "ERROR",
     "evalue": "Error in parse(text = x, srcfile = src): <text>:3:55: unexpected symbol\n2: \n3: sixteen_df_uniq_cln2 <- filter(, sixteen_df_uniq$race c\n                                                         ^\n",
     "output_type": "error",
     "traceback": [
      "Error in parse(text = x, srcfile = src): <text>:3:55: unexpected symbol\n2: \n3: sixteen_df_uniq_cln2 <- filter(, sixteen_df_uniq$race c\n                                                         ^\nTraceback:\n"
     ]
    }
   ],
   "source": [
    "#filter out the z which is other and \" \"\n",
    "\n",
    "sixteen_df_uniq_cln2 <- filter(sixteen_df_uniq_cln\n",
    "\n",
    "\n",
    "sixteen_df_uniq_cln2$arstmade_num <- factor(sixteen_df_uniq_cln2$arstmade_num)\n",
    "\n",
    "race_arstmade <- glm(arstmade_num ~ race, data = sixteen_df_uniq_cln2, family = \"binomial\")\n",
    "\n",
    "summary(race_arstmade)\n",
    "\n",
    "table(sixteen_df_uniq_cln2$race)"
   ]
  },
  {
   "cell_type": "code",
   "execution_count": 39,
   "metadata": {},
   "outputs": [
    {
     "data": {
      "text/html": [
       "<style>\n",
       ".list-inline {list-style: none; margin:0; padding: 0}\n",
       ".list-inline>li {display: inline-block}\n",
       ".list-inline>li:not(:last-child)::after {content: \"\\00b7\"; padding: 0 .5ex}\n",
       "</style>\n",
       "<ol class=list-inline><li>'B'</li><li>'W'</li><li>'P'</li><li>'A'</li><li>'Q'</li><li>'U'</li><li>'Z'</li><li>'I'</li><li>' '</li></ol>\n"
      ],
      "text/latex": [
       "\\begin{enumerate*}\n",
       "\\item 'B'\n",
       "\\item 'W'\n",
       "\\item 'P'\n",
       "\\item 'A'\n",
       "\\item 'Q'\n",
       "\\item 'U'\n",
       "\\item 'Z'\n",
       "\\item 'I'\n",
       "\\item ' '\n",
       "\\end{enumerate*}\n"
      ],
      "text/markdown": [
       "1. 'B'\n",
       "2. 'W'\n",
       "3. 'P'\n",
       "4. 'A'\n",
       "5. 'Q'\n",
       "6. 'U'\n",
       "7. 'Z'\n",
       "8. 'I'\n",
       "9. ' '\n",
       "\n",
       "\n"
      ],
      "text/plain": [
       "[1] \"B\" \"W\" \"P\" \"A\" \"Q\" \"U\" \"Z\" \"I\" \" \""
      ]
     },
     "metadata": {},
     "output_type": "display_data"
    }
   ],
   "source": [
    "unique(sixteen_df_uniq$race)"
   ]
  },
  {
   "cell_type": "code",
   "execution_count": null,
   "metadata": {},
   "outputs": [],
   "source": []
  }
 ],
 "metadata": {
  "kernelspec": {
   "display_name": "R",
   "language": "R",
   "name": "ir"
  },
  "language_info": {
   "codemirror_mode": "r",
   "file_extension": ".r",
   "mimetype": "text/x-r-source",
   "name": "R",
   "pygments_lexer": "r",
   "version": "4.0.0"
  }
 },
 "nbformat": 4,
 "nbformat_minor": 4
}
