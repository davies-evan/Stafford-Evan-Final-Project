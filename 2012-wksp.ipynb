{
 "cells": [
  {
   "cell_type": "code",
   "execution_count": 4,
   "metadata": {},
   "outputs": [],
   "source": [
    "library(stringr)\n",
    "\n",
    "library(dplyr)\n",
    "\n",
    "twelve_df <- read.csv(\"2012.csv\")"
   ]
  },
  {
   "cell_type": "code",
   "execution_count": 5,
   "metadata": {},
   "outputs": [],
   "source": [
    "# race\n",
    "# city\n",
    "# race*city\n",
    "\n",
    "twelve_df <- filter(twelve_df, twelve_df$city != \" \")\n",
    "\n",
    "twelve_df <- filter(twelve_df, twelve_df$race != \" \")"
   ]
  },
  {
   "cell_type": "code",
   "execution_count": 6,
   "metadata": {},
   "outputs": [],
   "source": [
    "quantconvert <- function(v) {\n",
    "    n <- length(v)\n",
    "    column <- rep(0, n)\n",
    "    \n",
    "    for (i in 1:n) {\n",
    "        if (v[i] == \"Y\") {\n",
    "            column[i] <- 1\n",
    "        }\n",
    "        else if (v[i] == \"N\"){\n",
    "            column[i] <- 0\n",
    "        }\n",
    "    }\n",
    "    return(column)\n",
    "}\n",
    "\n",
    "twelve_df$arstmade_num <- quantconvert(twelve_df$arstmade)"
   ]
  },
  {
   "cell_type": "code",
   "execution_count": 4,
   "metadata": {},
   "outputs": [
    {
     "data": {
      "text/plain": [
       "\n",
       "Call:\n",
       "glm(formula = arstmade_num ~ race, family = \"binomial\", data = twelve_df)\n",
       "\n",
       "Deviance Residuals: \n",
       "    Min       1Q   Median       3Q      Max  \n",
       "-0.3885  -0.3647  -0.3423  -0.3423   2.4796  \n",
       "\n",
       "Coefficients:\n",
       "            Estimate Std. Error z value Pr(>|z|)    \n",
       "(Intercept) -2.54597    0.02949 -86.333  < 2e-16 ***\n",
       "raceB       -0.26194    0.03058  -8.565  < 2e-16 ***\n",
       "raceI       -0.26540    0.09566  -2.774  0.00553 ** \n",
       "raceP       -0.10334    0.03637  -2.841  0.00449 ** \n",
       "raceQ       -0.13103    0.03159  -4.148 3.36e-05 ***\n",
       "raceU       -0.16179    0.07354  -2.200  0.02781 *  \n",
       "raceW       -0.08410    0.03444  -2.442  0.01462 *  \n",
       "raceZ       -0.48085    0.05581  -8.616  < 2e-16 ***\n",
       "---\n",
       "Signif. codes:  0 ‘***’ 0.001 ‘**’ 0.01 ‘*’ 0.05 ‘.’ 0.1 ‘ ’ 1\n",
       "\n",
       "(Dispersion parameter for binomial family taken to be 1)\n",
       "\n",
       "    Null deviance: 243770  on 532905  degrees of freedom\n",
       "Residual deviance: 243531  on 532898  degrees of freedom\n",
       "AIC: 243547\n",
       "\n",
       "Number of Fisher Scoring iterations: 5\n"
      ]
     },
     "metadata": {},
     "output_type": "display_data"
    }
   ],
   "source": [
    "twelve_df$arstmade_num <- factor(twelve_df$arstmade_num)\n",
    "\n",
    "race_arstmade <- glm(arstmade_num ~ race, data = twelve_df, family = \"binomial\")\n",
    "\n",
    "summary(race_arstmade)"
   ]
  },
  {
   "cell_type": "code",
   "execution_count": 4,
   "metadata": {},
   "outputs": [
    {
     "data": {
      "text/plain": [
       "\n",
       "Call:\n",
       "glm(formula = arstmade_num ~ city, family = \"binomial\", data = twelve_df)\n",
       "\n",
       "Deviance Residuals: \n",
       "    Min       1Q   Median       3Q      Max  \n",
       "-0.4143  -0.3869  -0.3680  -0.2823   2.5465  \n",
       "\n",
       "Coefficients:\n",
       "              Estimate Std. Error  z value Pr(>|z|)    \n",
       "(Intercept)   -2.65850    0.01265 -210.160  < 2e-16 ***\n",
       "cityBROOKLYN  -0.54402    0.01735  -31.348  < 2e-16 ***\n",
       "cityMANHATTAN  0.24627    0.01674   14.716  < 2e-16 ***\n",
       "cityQUEENS     0.10362    0.01717    6.036 1.58e-09 ***\n",
       "citySTATEN IS -0.15176    0.03257   -4.660 3.17e-06 ***\n",
       "---\n",
       "Signif. codes:  0 ‘***’ 0.001 ‘**’ 0.01 ‘*’ 0.05 ‘.’ 0.1 ‘ ’ 1\n",
       "\n",
       "(Dispersion parameter for binomial family taken to be 1)\n",
       "\n",
       "    Null deviance: 243770  on 532905  degrees of freedom\n",
       "Residual deviance: 240912  on 532901  degrees of freedom\n",
       "AIC: 240922\n",
       "\n",
       "Number of Fisher Scoring iterations: 6\n"
      ]
     },
     "metadata": {},
     "output_type": "display_data"
    }
   ],
   "source": [
    "twelve_df$arstmade_num <- factor(twelve_df$arstmade_num)\n",
    "\n",
    "city_arstmade <- glm(arstmade_num ~ city, data = twelve_df, family = \"binomial\")\n",
    "\n",
    "summary(city_arstmade)"
   ]
  },
  {
   "cell_type": "code",
   "execution_count": 5,
   "metadata": {},
   "outputs": [
    {
     "data": {
      "text/plain": [
       "\n",
       "Call:\n",
       "glm(formula = arstmade_num ~ race + city + race * city, family = \"binomial\", \n",
       "    data = twelve_df)\n",
       "\n",
       "Deviance Residuals: \n",
       "    Min       1Q   Median       3Q      Max  \n",
       "-0.5124  -0.3935  -0.3633  -0.2697   2.9385  \n",
       "\n",
       "Coefficients:\n",
       "                    Estimate Std. Error z value Pr(>|z|)    \n",
       "(Intercept)         -2.46062    0.12824 -19.188  < 2e-16 ***\n",
       "raceB               -0.22439    0.12955  -1.732 0.083252 .  \n",
       "raceI               -0.26067    0.26407  -0.987 0.323585    \n",
       "raceP               -0.14291    0.13319  -1.073 0.283283    \n",
       "raceQ               -0.16473    0.13011  -1.266 0.205480    \n",
       "raceU               -0.58512    0.20810  -2.812 0.004928 ** \n",
       "raceW               -0.06108    0.14417  -0.424 0.671799    \n",
       "raceZ               -0.64365    0.16431  -3.917 8.96e-05 ***\n",
       "cityBROOKLYN        -0.49632    0.14887  -3.334 0.000856 ***\n",
       "cityMANHATTAN        0.12260    0.14647   0.837 0.402554    \n",
       "cityQUEENS          -0.01493    0.13374  -0.112 0.911113    \n",
       "citySTATEN IS       -0.28191    0.26920  -1.047 0.294991    \n",
       "raceB:cityBROOKLYN  -0.11438    0.15079  -0.759 0.448143    \n",
       "raceI:cityBROOKLYN   0.50957    0.32293   1.578 0.114572    \n",
       "raceP:cityBROOKLYN   0.08033    0.16252   0.494 0.621113    \n",
       "raceQ:cityBROOKLYN   0.04633    0.15290   0.303 0.761874    \n",
       "raceU:cityBROOKLYN   0.53173    0.26381   2.016 0.043845 *  \n",
       "raceW:cityBROOKLYN   0.03999    0.16641   0.240 0.810111    \n",
       "raceZ:cityBROOKLYN  -0.01183    0.21007  -0.056 0.955102    \n",
       "raceB:cityMANHATTAN  0.12630    0.14841   0.851 0.394758    \n",
       "raceI:cityMANHATTAN -0.43626    0.38028  -1.147 0.251298    \n",
       "raceP:cityMANHATTAN -0.09554    0.15551  -0.614 0.538983    \n",
       "raceQ:cityMANHATTAN  0.13537    0.14978   0.904 0.366079    \n",
       "raceU:cityMANHATTAN  0.95919    0.24391   3.933 8.41e-05 ***\n",
       "raceW:cityMANHATTAN  0.15314    0.16390   0.934 0.350135    \n",
       "raceZ:cityMANHATTAN  0.31024    0.19618   1.581 0.113783    \n",
       "raceB:cityQUEENS     0.18027    0.13612   1.324 0.185385    \n",
       "raceI:cityQUEENS    -0.04090    0.30081  -0.136 0.891854    \n",
       "raceP:cityQUEENS     0.17299    0.14827   1.167 0.243316    \n",
       "raceQ:cityQUEENS    -0.03623    0.13728  -0.264 0.791849    \n",
       "raceU:cityQUEENS    -0.06699    0.26742  -0.250 0.802204    \n",
       "raceW:cityQUEENS     0.12546    0.15316   0.819 0.412710    \n",
       "raceZ:cityQUEENS     0.51612    0.19937   2.589 0.009631 ** \n",
       "raceB:citySTATEN IS  0.26639    0.27362   0.974 0.330275    \n",
       "raceI:citySTATEN IS -1.30086    1.06667  -1.220 0.222634    \n",
       "raceP:citySTATEN IS  0.18074    0.31691   0.570 0.568468    \n",
       "raceQ:citySTATEN IS  0.22991    0.27835   0.826 0.408821    \n",
       "raceU:citySTATEN IS  0.76271    0.60709   1.256 0.208996    \n",
       "raceW:citySTATEN IS -0.21266    0.28262  -0.752 0.451763    \n",
       "raceZ:citySTATEN IS  0.22682    0.37541   0.604 0.545719    \n",
       "---\n",
       "Signif. codes:  0 ‘***’ 0.001 ‘**’ 0.01 ‘*’ 0.05 ‘.’ 0.1 ‘ ’ 1\n",
       "\n",
       "(Dispersion parameter for binomial family taken to be 1)\n",
       "\n",
       "    Null deviance: 243770  on 532905  degrees of freedom\n",
       "Residual deviance: 240531  on 532866  degrees of freedom\n",
       "AIC: 240611\n",
       "\n",
       "Number of Fisher Scoring iterations: 6\n"
      ]
     },
     "metadata": {},
     "output_type": "display_data"
    }
   ],
   "source": [
    "twelve_df$arstmade_num <- factor(twelve_df$arstmade_num)\n",
    "\n",
    "race_city_arstmade <- glm(arstmade_num ~ race + city + race*city, data = twelve_df, family = \"binomial\")\n",
    "\n",
    "summary(race_city_arstmade)"
   ]
  },
  {
   "cell_type": "code",
   "execution_count": 8,
   "metadata": {},
   "outputs": [],
   "source": [
    "logit2prob <- function(logit){\n",
    "    odds <- exp(logit)\n",
    "    prob <- odds / (1 + odds)\n",
    "    return(prob)\n",
    "}\n",
    "\n"
   ]
  },
  {
   "cell_type": "code",
   "execution_count": 9,
   "metadata": {},
   "outputs": [],
   "source": [
    "logit2prob2 <- function(model){\n",
    "    int = coef(model)[1]\n",
    "    n = length(model)\n",
    "    output = rep(1,n)\n",
    "    output[1] = exp(int)/(1 + exp(int))\n",
    "    for (i in 2:n) {\n",
    "    logit <- int + coef(model)[i]\n",
    "    odds <- exp(logit)\n",
    "    prob <- odds / (1 + odds)\n",
    "    output[i] <- prob\n",
    "}\n",
    "    return(output)\n",
    "}\n",
    "\n"
   ]
  },
  {
   "cell_type": "code",
   "execution_count": 7,
   "metadata": {},
   "outputs": [
    {
     "data": {
      "text/plain": [
       "\n",
       "Call:\n",
       "glm(formula = arstmade_num ~ race + city, family = \"binomial\", \n",
       "    data = twelve_df)\n",
       "\n",
       "Deviance Residuals: \n",
       "    Min       1Q   Median       3Q      Max  \n",
       "-0.4419  -0.3867  -0.3648  -0.2791   2.6560  \n",
       "\n",
       "Coefficients:\n",
       "              Estimate Std. Error z value Pr(>|z|)    \n",
       "(Intercept)   -2.53386    0.03291 -77.001  < 2e-16 ***\n",
       "raceB         -0.14262    0.03118  -4.575 4.77e-06 ***\n",
       "raceI         -0.23036    0.09586  -2.403  0.01626 *  \n",
       "raceP         -0.10917    0.03712  -2.941  0.00327 ** \n",
       "raceQ         -0.10370    0.03201  -3.240  0.00120 ** \n",
       "raceU         -0.12360    0.07387  -1.673  0.09427 .  \n",
       "raceW          0.01922    0.03503   0.549  0.58321    \n",
       "raceZ         -0.41432    0.05628  -7.361 1.82e-13 ***\n",
       "cityBROOKLYN  -0.54927    0.01763 -31.151  < 2e-16 ***\n",
       "cityMANHATTAN  0.23749    0.01684  14.104  < 2e-16 ***\n",
       "cityQUEENS     0.08189    0.01751   4.676 2.92e-06 ***\n",
       "citySTATEN IS -0.19834    0.03331  -5.954 2.61e-09 ***\n",
       "---\n",
       "Signif. codes:  0 ‘***’ 0.001 ‘**’ 0.01 ‘*’ 0.05 ‘.’ 0.1 ‘ ’ 1\n",
       "\n",
       "(Dispersion parameter for binomial family taken to be 1)\n",
       "\n",
       "    Null deviance: 243770  on 532905  degrees of freedom\n",
       "Residual deviance: 240788  on 532894  degrees of freedom\n",
       "AIC: 240812\n",
       "\n",
       "Number of Fisher Scoring iterations: 6\n"
      ]
     },
     "metadata": {},
     "output_type": "display_data"
    }
   ],
   "source": [
    "twelve_df$arstmade_num <- factor(twelve_df$arstmade_num)\n",
    "\n",
    "race_city_arstmade <- glm(arstmade_num ~ race + city, data = twelve_df, family = \"binomial\")\n",
    "\n",
    "summary(race_city_arstmade)"
   ]
  },
  {
   "cell_type": "code",
   "execution_count": 10,
   "metadata": {},
   "outputs": [
    {
     "data": {
      "text/html": [
       "<style>\n",
       ".dl-inline {width: auto; margin:0; padding: 0}\n",
       ".dl-inline>dt, .dl-inline>dd {float: none; width: auto; display: inline-block}\n",
       ".dl-inline>dt::after {content: \":\\0020\"; padding-right: .5ex}\n",
       ".dl-inline>dt:not(:first-of-type) {padding-left: .5ex}\n",
       "</style><dl class=dl-inline><dt>(Intercept)</dt><dd>0.073518563744766</dd><dt>raceB</dt><dd>0.464404932438945</dd><dt>raceI</dt><dd>0.442662959113328</dd><dt>raceP</dt><dd>0.472733772132693</dd><dt>raceQ</dt><dd>0.474097146066354</dd><dt>raceU</dt><dd>0.469138280018792</dd><dt>raceW</dt><dd>0.50480511340357</dd><dt>raceZ</dt><dd>0.397875954288003</dd><dt>cityBROOKLYN</dt><dd>0.36603428506933</dd><dt>cityMANHATTAN</dt><dd>0.55909534762941</dd><dt>cityQUEENS</dt><dd>0.52046051758118</dd><dt>citySTATEN IS</dt><dd>0.450576744757363</dd></dl>\n"
      ],
      "text/latex": [
       "\\begin{description*}\n",
       "\\item[(Intercept)] 0.073518563744766\n",
       "\\item[raceB] 0.464404932438945\n",
       "\\item[raceI] 0.442662959113328\n",
       "\\item[raceP] 0.472733772132693\n",
       "\\item[raceQ] 0.474097146066354\n",
       "\\item[raceU] 0.469138280018792\n",
       "\\item[raceW] 0.50480511340357\n",
       "\\item[raceZ] 0.397875954288003\n",
       "\\item[cityBROOKLYN] 0.36603428506933\n",
       "\\item[cityMANHATTAN] 0.55909534762941\n",
       "\\item[cityQUEENS] 0.52046051758118\n",
       "\\item[citySTATEN IS] 0.450576744757363\n",
       "\\end{description*}\n"
      ],
      "text/markdown": [
       "(Intercept)\n",
       ":   0.073518563744766raceB\n",
       ":   0.464404932438945raceI\n",
       ":   0.442662959113328raceP\n",
       ":   0.472733772132693raceQ\n",
       ":   0.474097146066354raceU\n",
       ":   0.469138280018792raceW\n",
       ":   0.50480511340357raceZ\n",
       ":   0.397875954288003cityBROOKLYN\n",
       ":   0.36603428506933cityMANHATTAN\n",
       ":   0.55909534762941cityQUEENS\n",
       ":   0.52046051758118citySTATEN IS\n",
       ":   0.450576744757363\n",
       "\n"
      ],
      "text/plain": [
       "  (Intercept)         raceB         raceI         raceP         raceQ \n",
       "   0.07351856    0.46440493    0.44266296    0.47273377    0.47409715 \n",
       "        raceU         raceW         raceZ  cityBROOKLYN cityMANHATTAN \n",
       "   0.46913828    0.50480511    0.39787595    0.36603429    0.55909535 \n",
       "   cityQUEENS citySTATEN IS \n",
       "   0.52046052    0.45057674 "
      ]
     },
     "metadata": {},
     "output_type": "display_data"
    }
   ],
   "source": [
    "logit2prob(coef(race_city_arstmade))"
   ]
  },
  {
   "cell_type": "code",
   "execution_count": 11,
   "metadata": {},
   "outputs": [
    {
     "data": {
      "text/html": [
       "<style>\n",
       ".list-inline {list-style: none; margin:0; padding: 0}\n",
       ".list-inline>li {display: inline-block}\n",
       ".list-inline>li:not(:last-child)::after {content: \"\\00b7\"; padding: 0 .5ex}\n",
       "</style>\n",
       "<ol class=list-inline><li>0.073518563744766</li><li>0.06437571046572</li><li>0.0592887000914156</li><li>0.066419947835018</li><li>0.0667598741319189</li><li>0.0655306978417508</li><li>0.0748385579492089</li><li>0.0498226352598249</li><li>0.0438087683432255</li><li>0.0914244841386934</li><li>0.0792947326332991</li><li>0.061100020665229</li><li>&lt;NA&gt;</li><li>&lt;NA&gt;</li><li>&lt;NA&gt;</li><li>&lt;NA&gt;</li><li>&lt;NA&gt;</li><li>&lt;NA&gt;</li><li>&lt;NA&gt;</li><li>&lt;NA&gt;</li><li>&lt;NA&gt;</li><li>&lt;NA&gt;</li><li>&lt;NA&gt;</li><li>&lt;NA&gt;</li><li>&lt;NA&gt;</li><li>&lt;NA&gt;</li><li>&lt;NA&gt;</li><li>&lt;NA&gt;</li><li>&lt;NA&gt;</li><li>&lt;NA&gt;</li></ol>\n"
      ],
      "text/latex": [
       "\\begin{enumerate*}\n",
       "\\item 0.073518563744766\n",
       "\\item 0.06437571046572\n",
       "\\item 0.0592887000914156\n",
       "\\item 0.066419947835018\n",
       "\\item 0.0667598741319189\n",
       "\\item 0.0655306978417508\n",
       "\\item 0.0748385579492089\n",
       "\\item 0.0498226352598249\n",
       "\\item 0.0438087683432255\n",
       "\\item 0.0914244841386934\n",
       "\\item 0.0792947326332991\n",
       "\\item 0.061100020665229\n",
       "\\item <NA>\n",
       "\\item <NA>\n",
       "\\item <NA>\n",
       "\\item <NA>\n",
       "\\item <NA>\n",
       "\\item <NA>\n",
       "\\item <NA>\n",
       "\\item <NA>\n",
       "\\item <NA>\n",
       "\\item <NA>\n",
       "\\item <NA>\n",
       "\\item <NA>\n",
       "\\item <NA>\n",
       "\\item <NA>\n",
       "\\item <NA>\n",
       "\\item <NA>\n",
       "\\item <NA>\n",
       "\\item <NA>\n",
       "\\end{enumerate*}\n"
      ],
      "text/markdown": [
       "1. 0.073518563744766\n",
       "2. 0.06437571046572\n",
       "3. 0.0592887000914156\n",
       "4. 0.066419947835018\n",
       "5. 0.0667598741319189\n",
       "6. 0.0655306978417508\n",
       "7. 0.0748385579492089\n",
       "8. 0.0498226352598249\n",
       "9. 0.0438087683432255\n",
       "10. 0.0914244841386934\n",
       "11. 0.0792947326332991\n",
       "12. 0.061100020665229\n",
       "13. &lt;NA&gt;\n",
       "14. &lt;NA&gt;\n",
       "15. &lt;NA&gt;\n",
       "16. &lt;NA&gt;\n",
       "17. &lt;NA&gt;\n",
       "18. &lt;NA&gt;\n",
       "19. &lt;NA&gt;\n",
       "20. &lt;NA&gt;\n",
       "21. &lt;NA&gt;\n",
       "22. &lt;NA&gt;\n",
       "23. &lt;NA&gt;\n",
       "24. &lt;NA&gt;\n",
       "25. &lt;NA&gt;\n",
       "26. &lt;NA&gt;\n",
       "27. &lt;NA&gt;\n",
       "28. &lt;NA&gt;\n",
       "29. &lt;NA&gt;\n",
       "30. &lt;NA&gt;\n",
       "\n",
       "\n"
      ],
      "text/plain": [
       " [1] 0.07351856 0.06437571 0.05928870 0.06641995 0.06675987 0.06553070\n",
       " [7] 0.07483856 0.04982264 0.04380877 0.09142448 0.07929473 0.06110002\n",
       "[13]         NA         NA         NA         NA         NA         NA\n",
       "[19]         NA         NA         NA         NA         NA         NA\n",
       "[25]         NA         NA         NA         NA         NA         NA"
      ]
     },
     "metadata": {},
     "output_type": "display_data"
    }
   ],
   "source": [
    "logit2prob2(race_city_arstmade)"
   ]
  },
  {
   "cell_type": "code",
   "execution_count": null,
   "metadata": {},
   "outputs": [],
   "source": []
  }
 ],
 "metadata": {
  "kernelspec": {
   "display_name": "R",
   "language": "R",
   "name": "ir"
  },
  "language_info": {
   "codemirror_mode": "r",
   "file_extension": ".r",
   "mimetype": "text/x-r-source",
   "name": "R",
   "pygments_lexer": "r",
   "version": "4.0.0"
  }
 },
 "nbformat": 4,
 "nbformat_minor": 4
}
