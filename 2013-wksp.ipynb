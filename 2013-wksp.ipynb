{
 "cells": [
  {
   "cell_type": "code",
   "execution_count": 1,
   "metadata": {},
   "outputs": [
    {
     "name": "stderr",
     "output_type": "stream",
     "text": [
      "Warning message:\n",
      "“package ‘dplyr’ was built under R version 4.0.2”\n",
      "\n",
      "Attaching package: ‘dplyr’\n",
      "\n",
      "\n",
      "The following objects are masked from ‘package:stats’:\n",
      "\n",
      "    filter, lag\n",
      "\n",
      "\n",
      "The following objects are masked from ‘package:base’:\n",
      "\n",
      "    intersect, setdiff, setequal, union\n",
      "\n",
      "\n"
     ]
    }
   ],
   "source": [
    "library(stringr)\n",
    "\n",
    "library(dplyr)\n",
    "\n",
    "thirteen_df <- read.csv(\"2013.csv\")"
   ]
  },
  {
   "cell_type": "code",
   "execution_count": 2,
   "metadata": {},
   "outputs": [],
   "source": [
    "# race\n",
    "# city\n",
    "# race*city\n",
    "\n",
    "thirteen_df <- filter(thirteen_df, thirteen_df$city != \" \")\n",
    "\n",
    "thirteen_df <- filter(thirteen_df, thirteen_df$race != \" \")"
   ]
  },
  {
   "cell_type": "code",
   "execution_count": 3,
   "metadata": {},
   "outputs": [],
   "source": [
    "quantconvert <- function(v) {\n",
    "    n <- length(v)\n",
    "    column <- rep(0, n)\n",
    "    \n",
    "    for (i in 1:n) {\n",
    "        if (v[i] == \"Y\") {\n",
    "            column[i] <- 1\n",
    "        }\n",
    "        else if (v[i] == \"N\"){\n",
    "            column[i] <- 0\n",
    "        }\n",
    "    }\n",
    "    return(column)\n",
    "}\n",
    "\n",
    "thirteen_df$arstmade_num <- quantconvert(thirteen_df$arstmade)"
   ]
  },
  {
   "cell_type": "code",
   "execution_count": 5,
   "metadata": {},
   "outputs": [
    {
     "data": {
      "text/plain": [
       "\n",
       "Call:\n",
       "glm(formula = arstmade_num ~ city, family = \"binomial\", data = thirteen_df)\n",
       "\n",
       "Deviance Residuals: \n",
       "    Min       1Q   Median       3Q      Max  \n",
       "-0.4965  -0.4712  -0.4010  -0.3420   2.3993  \n",
       "\n",
       "Coefficients:\n",
       "                  Estimate Std. Error  z value Pr(>|z|)    \n",
       "(Intercept)       -2.14223    0.02050 -104.482  < 2e-16 ***\n",
       "cityBROOKLYN      -0.66736    0.02604  -25.627  < 2e-16 ***\n",
       "cityMANHATTAN      0.11087    0.02578    4.301  1.7e-05 ***\n",
       "cityQUEENS        -0.33814    0.02699  -12.529  < 2e-16 ***\n",
       "citySTATEN IS     -0.67826    0.05381  -12.604  < 2e-16 ***\n",
       "citySTATEN ISLAND -0.17331    0.11119   -1.559    0.119    \n",
       "---\n",
       "Signif. codes:  0 ‘***’ 0.001 ‘**’ 0.01 ‘*’ 0.05 ‘.’ 0.1 ‘ ’ 1\n",
       "\n",
       "(Dispersion parameter for binomial family taken to be 1)\n",
       "\n",
       "    Null deviance: 107427  on 191850  degrees of freedom\n",
       "Residual deviance: 105952  on 191845  degrees of freedom\n",
       "AIC: 105964\n",
       "\n",
       "Number of Fisher Scoring iterations: 5\n"
      ]
     },
     "metadata": {},
     "output_type": "display_data"
    }
   ],
   "source": [
    "thirteen_df$arstmade_num <- factor(thirteen_df$arstmade_num)\n",
    "\n",
    "city_arstmade <- glm(arstmade_num ~ city, data = thirteen_df, family = \"binomial\")\n",
    "\n",
    "summary(city_arstmade)"
   ]
  },
  {
   "cell_type": "code",
   "execution_count": 17,
   "metadata": {},
   "outputs": [
    {
     "data": {
      "text/plain": [
       "\n",
       "Call:\n",
       "glm(formula = arstmade_num ~ race, family = \"binomial\", data = thirteen_df)\n",
       "\n",
       "Deviance Residuals: \n",
       "    Min       1Q   Median       3Q      Max  \n",
       "-0.4446  -0.4431  -0.3901  -0.3901   2.4177  \n",
       "\n",
       "Coefficients:\n",
       "            Estimate Std. Error z value Pr(>|z|)    \n",
       "(Intercept) -2.32447    0.04242 -54.793  < 2e-16 ***\n",
       "raceB       -0.21289    0.04405  -4.833 1.35e-06 ***\n",
       "raceI       -0.54291    0.16068  -3.379 0.000728 ***\n",
       "raceP        0.06019    0.05249   1.147 0.251535    \n",
       "raceQ        0.05295    0.04557   1.162 0.245205    \n",
       "raceU       -0.25087    0.12282  -2.043 0.041100 *  \n",
       "raceW       -0.08289    0.04933  -1.680 0.092901 .  \n",
       "raceZ       -0.31232    0.08625  -3.621 0.000293 ***\n",
       "---\n",
       "Signif. codes:  0 ‘***’ 0.001 ‘**’ 0.01 ‘*’ 0.05 ‘.’ 0.1 ‘ ’ 1\n",
       "\n",
       "(Dispersion parameter for binomial family taken to be 1)\n",
       "\n",
       "    Null deviance: 107427  on 191850  degrees of freedom\n",
       "Residual deviance: 107203  on 191843  degrees of freedom\n",
       "AIC: 107219\n",
       "\n",
       "Number of Fisher Scoring iterations: 5\n"
      ]
     },
     "metadata": {},
     "output_type": "display_data"
    }
   ],
   "source": [
    "thirteen_df$arstmade_num <- factor(thirteen_df$arstmade_num)\n",
    "\n",
    "race_arstmade <- glm(arstmade_num ~ race, data = thirteen_df, family = \"binomial\")\n",
    "\n",
    "summary(race_arstmade)"
   ]
  },
  {
   "cell_type": "code",
   "execution_count": 7,
   "metadata": {},
   "outputs": [
    {
     "data": {
      "text/plain": [
       "\n",
       "Call:\n",
       "glm(formula = arstmade_num ~ race + city + race * city, family = \"binomial\", \n",
       "    data = thirteen_df)\n",
       "\n",
       "Deviance Residuals: \n",
       "    Min       1Q   Median       3Q      Max  \n",
       "-0.5567  -0.4531  -0.3587  -0.3356   2.6038  \n",
       "\n",
       "Coefficients:\n",
       "                         Estimate Std. Error z value Pr(>|z|)    \n",
       "(Intercept)              -2.33699    0.23416  -9.980   <2e-16 ***\n",
       "raceB                     0.11247    0.23600   0.477   0.6337    \n",
       "raceI                    -0.53940    0.56473  -0.955   0.3395    \n",
       "raceP                     0.40464    0.24104   1.679   0.0932 .  \n",
       "raceQ                     0.30242    0.23688   1.277   0.2017    \n",
       "raceU                     0.23285    0.40869   0.570   0.5688    \n",
       "raceW                     0.06151    0.26010   0.236   0.8131    \n",
       "raceZ                    -0.53940    0.31440  -1.716   0.0862 .  \n",
       "cityBROOKLYN             -0.22854    0.25073  -0.911   0.3620    \n",
       "cityMANHATTAN             0.27860    0.25954   1.073   0.2831    \n",
       "cityQUEENS                0.07183    0.24058   0.299   0.7653    \n",
       "citySTATEN IS            -1.01875    0.63229  -1.611   0.1071    \n",
       "citySTATEN ISLAND         0.39108    1.09439   0.357   0.7208    \n",
       "raceB:cityBROOKLYN       -0.39567    0.25330  -1.562   0.1183    \n",
       "raceI:cityBROOKLYN        0.28439    0.63454   0.448   0.6540    \n",
       "raceP:cityBROOKLYN       -0.48724    0.26758  -1.821   0.0686 .  \n",
       "raceQ:cityBROOKLYN       -0.49181    0.25616  -1.920   0.0549 .  \n",
       "raceU:cityBROOKLYN       -0.34394    0.46177  -0.745   0.4564    \n",
       "raceW:cityBROOKLYN       -0.27300    0.27901  -0.978   0.3278    \n",
       "raceZ:cityBROOKLYN       -0.03057    0.36138  -0.085   0.9326    \n",
       "raceB:cityMANHATTAN      -0.10987    0.26217  -0.419   0.6752    \n",
       "raceI:cityMANHATTAN      -0.37263    0.71180  -0.524   0.6006    \n",
       "raceP:cityMANHATTAN      -0.62494    0.27072  -2.308   0.0210 *  \n",
       "raceQ:cityMANHATTAN      -0.22161    0.26375  -0.840   0.4008    \n",
       "raceU:cityMANHATTAN      -0.44315    0.49077  -0.903   0.3665    \n",
       "raceW:cityMANHATTAN       0.21078    0.28682   0.735   0.4624    \n",
       "raceZ:cityMANHATTAN       0.58288    0.35133   1.659   0.0971 .  \n",
       "raceB:cityQUEENS         -0.55878    0.24392  -2.291   0.0220 *  \n",
       "raceI:cityQUEENS         -0.05614    0.61450  -0.091   0.9272    \n",
       "raceP:cityQUEENS         -0.32678    0.25948  -1.259   0.2079    \n",
       "raceQ:cityQUEENS         -0.29498    0.24533  -1.202   0.2292    \n",
       "raceU:cityQUEENS         -0.70466    0.46116  -1.528   0.1265    \n",
       "raceW:cityQUEENS         -0.10113    0.27090  -0.373   0.7089    \n",
       "raceZ:cityQUEENS         -0.06713    0.38199  -0.176   0.8605    \n",
       "raceB:citySTATEN IS       0.57508    0.63712   0.903   0.3667    \n",
       "raceI:citySTATEN IS       1.00476    1.31127   0.766   0.4435    \n",
       "raceP:citySTATEN IS       0.13057    0.69192   0.189   0.8503    \n",
       "raceQ:citySTATEN IS       0.08290    0.64655   0.128   0.8980    \n",
       "raceU:citySTATEN IS      -9.44318   90.07054  -0.105   0.9165    \n",
       "raceW:citySTATEN IS       0.37282    0.64814   0.575   0.5651    \n",
       "raceZ:citySTATEN IS       0.91198    0.84051   1.085   0.2779    \n",
       "raceB:citySTATEN ISLAND  -0.42205    1.10483  -0.382   0.7025    \n",
       "raceI:citySTATEN ISLAND -10.08075  324.74595  -0.031   0.9752    \n",
       "raceP:citySTATEN ISLAND -11.02479   52.01215  -0.212   0.8321    \n",
       "raceQ:citySTATEN ISLAND  -0.75441    1.13573  -0.664   0.5065    \n",
       "raceU:citySTATEN ISLAND -10.85301  229.63132  -0.047   0.9623    \n",
       "raceW:citySTATEN ISLAND  -0.33180    1.11748  -0.297   0.7665    \n",
       "raceZ:citySTATEN ISLAND -10.08075  114.81964  -0.088   0.9300    \n",
       "---\n",
       "Signif. codes:  0 ‘***’ 0.001 ‘**’ 0.01 ‘*’ 0.05 ‘.’ 0.1 ‘ ’ 1\n",
       "\n",
       "(Dispersion parameter for binomial family taken to be 1)\n",
       "\n",
       "    Null deviance: 107427  on 191850  degrees of freedom\n",
       "Residual deviance: 105628  on 191803  degrees of freedom\n",
       "AIC: 105724\n",
       "\n",
       "Number of Fisher Scoring iterations: 11\n"
      ]
     },
     "metadata": {},
     "output_type": "display_data"
    }
   ],
   "source": [
    "thirteen_df$arstmade_num <- factor(thirteen_df$arstmade_num)\n",
    "\n",
    "race_city_arstmade <- glm(arstmade_num ~ race + city + race*city, data = thirteen_df, family = \"binomial\")\n",
    "\n",
    "summary(race_city_arstmade)"
   ]
  },
  {
   "cell_type": "code",
   "execution_count": 11,
   "metadata": {},
   "outputs": [
    {
     "data": {
      "text/plain": [
       "\n",
       "Call:\n",
       "glm(formula = arstmade_num ~ city, family = \"binomial\", data = thirteen_df)\n",
       "\n",
       "Deviance Residuals: \n",
       "    Min       1Q   Median       3Q      Max  \n",
       "-0.4965  -0.4712  -0.4010  -0.3420   2.3993  \n",
       "\n",
       "Coefficients:\n",
       "                  Estimate Std. Error  z value Pr(>|z|)    \n",
       "(Intercept)       -2.14223    0.02050 -104.482  < 2e-16 ***\n",
       "cityBROOKLYN      -0.66736    0.02604  -25.627  < 2e-16 ***\n",
       "cityMANHATTAN      0.11087    0.02578    4.301  1.7e-05 ***\n",
       "cityQUEENS        -0.33814    0.02699  -12.529  < 2e-16 ***\n",
       "citySTATEN IS     -0.67826    0.05381  -12.604  < 2e-16 ***\n",
       "citySTATEN ISLAND -0.17331    0.11119   -1.559    0.119    \n",
       "---\n",
       "Signif. codes:  0 ‘***’ 0.001 ‘**’ 0.01 ‘*’ 0.05 ‘.’ 0.1 ‘ ’ 1\n",
       "\n",
       "(Dispersion parameter for binomial family taken to be 1)\n",
       "\n",
       "    Null deviance: 107427  on 191850  degrees of freedom\n",
       "Residual deviance: 105952  on 191845  degrees of freedom\n",
       "AIC: 105964\n",
       "\n",
       "Number of Fisher Scoring iterations: 5\n"
      ]
     },
     "metadata": {},
     "output_type": "display_data"
    }
   ],
   "source": [
    "thirteen_df$arstmade_num <- factor(thirteen_df$arstmade_num)\n",
    "\n",
    "city_arstmade <- glm(arstmade_num ~ city, data = thirteen_df, family = \"binomial\")\n",
    "\n",
    "summary(city_arstmade)"
   ]
  },
  {
   "cell_type": "code",
   "execution_count": 5,
   "metadata": {},
   "outputs": [],
   "source": [
    "logit2prob <- function(logit){\n",
    "    odds <- exp(logit)\n",
    "    prob <- odds / (1 + odds)\n",
    "    return(prob)\n",
    "}\n",
    "\n"
   ]
  },
  {
   "cell_type": "code",
   "execution_count": 6,
   "metadata": {},
   "outputs": [],
   "source": [
    "logit2prob2 <- function(model){\n",
    "    int = coef(model)[1]\n",
    "    n = length(model)\n",
    "    output = rep(1,n)\n",
    "    output[1] = exp(int)/(1 + exp(int))\n",
    "    for (i in 2:n) {\n",
    "    logit <- int + coef(model)[i]\n",
    "    odds <- exp(logit)\n",
    "    prob <- odds / (1 + odds)\n",
    "    output[i] <- prob\n",
    "}\n",
    "    return(output)\n",
    "}\n",
    "\n"
   ]
  },
  {
   "cell_type": "code",
   "execution_count": 4,
   "metadata": {},
   "outputs": [
    {
     "data": {
      "text/plain": [
       "\n",
       "Call:\n",
       "glm(formula = arstmade_num ~ race + city, family = \"binomial\", \n",
       "    data = thirteen_df)\n",
       "\n",
       "Deviance Residuals: \n",
       "    Min       1Q   Median       3Q      Max  \n",
       "-0.5363  -0.4548  -0.3842  -0.3317   2.5677  \n",
       "\n",
       "Coefficients:\n",
       "                  Estimate Std. Error z value Pr(>|z|)    \n",
       "(Intercept)       -1.97229    0.04822 -40.905  < 2e-16 ***\n",
       "raceB             -0.24430    0.04475  -5.459 4.80e-08 ***\n",
       "raceI             -0.57712    0.16105  -3.584 0.000339 ***\n",
       "raceP             -0.14528    0.05362  -2.710 0.006733 ** \n",
       "raceQ             -0.06112    0.04625  -1.321 0.186382    \n",
       "raceU             -0.27257    0.12326  -2.211 0.027008 *  \n",
       "raceW             -0.05795    0.05015  -1.156 0.247881    \n",
       "raceZ             -0.42238    0.08698  -4.856 1.20e-06 ***\n",
       "cityBROOKLYN      -0.65578    0.02641 -24.835  < 2e-16 ***\n",
       "cityMANHATTAN      0.10582    0.02587   4.090 4.31e-05 ***\n",
       "cityQUEENS        -0.35276    0.02744 -12.854  < 2e-16 ***\n",
       "citySTATEN IS     -0.70948    0.05472 -12.966  < 2e-16 ***\n",
       "citySTATEN ISLAND -0.18599    0.11152  -1.668 0.095365 .  \n",
       "---\n",
       "Signif. codes:  0 ‘***’ 0.001 ‘**’ 0.01 ‘*’ 0.05 ‘.’ 0.1 ‘ ’ 1\n",
       "\n",
       "(Dispersion parameter for binomial family taken to be 1)\n",
       "\n",
       "    Null deviance: 107427  on 191850  degrees of freedom\n",
       "Residual deviance: 105817  on 191838  degrees of freedom\n",
       "AIC: 105843\n",
       "\n",
       "Number of Fisher Scoring iterations: 5\n"
      ]
     },
     "metadata": {},
     "output_type": "display_data"
    }
   ],
   "source": [
    "thirteen_df$arstmade_num <- factor(thirteen_df$arstmade_num)\n",
    "\n",
    "race_city_arstmade <- glm(arstmade_num ~ race + city, data = thirteen_df, family = \"binomial\")\n",
    "\n",
    "summary(race_city_arstmade)"
   ]
  },
  {
   "cell_type": "code",
   "execution_count": 7,
   "metadata": {},
   "outputs": [
    {
     "data": {
      "text/html": [
       "<style>\n",
       ".dl-inline {width: auto; margin:0; padding: 0}\n",
       ".dl-inline>dt, .dl-inline>dd {float: none; width: auto; display: inline-block}\n",
       ".dl-inline>dt::after {content: \":\\0020\"; padding-right: .5ex}\n",
       ".dl-inline>dt:not(:first-of-type) {padding-left: .5ex}\n",
       "</style><dl class=dl-inline><dt>(Intercept)</dt><dd>0.12214341530218</dd><dt>raceB</dt><dd>0.439228098604727</dd><dt>raceI</dt><dd>0.359595832289182</dd><dt>raceP</dt><dd>0.463742783172812</dd><dt>raceQ</dt><dd>0.484725401074829</dd><dt>raceU</dt><dd>0.432276708609601</dd><dt>raceW</dt><dd>0.485515985534073</dd><dt>raceZ</dt><dd>0.395947938365817</dd><dt>cityBROOKLYN</dt><dd>0.341688033843172</dd><dt>cityMANHATTAN</dt><dd>0.526429155915023</dd><dt>cityQUEENS</dt><dd>0.412714130608047</dd><dt>citySTATEN IS</dt><dd>0.32971341265953</dd><dt>citySTATEN ISLAND</dt><dd>0.453636834141743</dd></dl>\n"
      ],
      "text/latex": [
       "\\begin{description*}\n",
       "\\item[(Intercept)] 0.12214341530218\n",
       "\\item[raceB] 0.439228098604727\n",
       "\\item[raceI] 0.359595832289182\n",
       "\\item[raceP] 0.463742783172812\n",
       "\\item[raceQ] 0.484725401074829\n",
       "\\item[raceU] 0.432276708609601\n",
       "\\item[raceW] 0.485515985534073\n",
       "\\item[raceZ] 0.395947938365817\n",
       "\\item[cityBROOKLYN] 0.341688033843172\n",
       "\\item[cityMANHATTAN] 0.526429155915023\n",
       "\\item[cityQUEENS] 0.412714130608047\n",
       "\\item[citySTATEN IS] 0.32971341265953\n",
       "\\item[citySTATEN ISLAND] 0.453636834141743\n",
       "\\end{description*}\n"
      ],
      "text/markdown": [
       "(Intercept)\n",
       ":   0.12214341530218raceB\n",
       ":   0.439228098604727raceI\n",
       ":   0.359595832289182raceP\n",
       ":   0.463742783172812raceQ\n",
       ":   0.484725401074829raceU\n",
       ":   0.432276708609601raceW\n",
       ":   0.485515985534073raceZ\n",
       ":   0.395947938365817cityBROOKLYN\n",
       ":   0.341688033843172cityMANHATTAN\n",
       ":   0.526429155915023cityQUEENS\n",
       ":   0.412714130608047citySTATEN IS\n",
       ":   0.32971341265953citySTATEN ISLAND\n",
       ":   0.453636834141743\n",
       "\n"
      ],
      "text/plain": [
       "      (Intercept)             raceB             raceI             raceP \n",
       "        0.1221434         0.4392281         0.3595958         0.4637428 \n",
       "            raceQ             raceU             raceW             raceZ \n",
       "        0.4847254         0.4322767         0.4855160         0.3959479 \n",
       "     cityBROOKLYN     cityMANHATTAN        cityQUEENS     citySTATEN IS \n",
       "        0.3416880         0.5264292         0.4127141         0.3297134 \n",
       "citySTATEN ISLAND \n",
       "        0.4536368 "
      ]
     },
     "metadata": {},
     "output_type": "display_data"
    }
   ],
   "source": [
    "logit2prob(coef(race_city_arstmade))"
   ]
  },
  {
   "cell_type": "code",
   "execution_count": 8,
   "metadata": {},
   "outputs": [
    {
     "data": {
      "text/html": [
       "<style>\n",
       ".list-inline {list-style: none; margin:0; padding: 0}\n",
       ".list-inline>li {display: inline-block}\n",
       ".list-inline>li:not(:last-child)::after {content: \"\\00b7\"; padding: 0 .5ex}\n",
       "</style>\n",
       "<ol class=list-inline><li>0.12214341530218</li><li>0.098271208290316</li><li>0.0724663926163836</li><li>0.10740068509299</li><li>0.115740008213396</li><li>0.0957941373653642</li><li>0.116064336460099</li><li>0.0835804224330831</li><li>0.0673537031959555</li><li>0.133950457835154</li><li>0.0890699678974118</li><li>0.0640577425364951</li><li>0.10356054968078</li><li>&lt;NA&gt;</li><li>&lt;NA&gt;</li><li>&lt;NA&gt;</li><li>&lt;NA&gt;</li><li>&lt;NA&gt;</li><li>&lt;NA&gt;</li><li>&lt;NA&gt;</li><li>&lt;NA&gt;</li><li>&lt;NA&gt;</li><li>&lt;NA&gt;</li><li>&lt;NA&gt;</li><li>&lt;NA&gt;</li><li>&lt;NA&gt;</li><li>&lt;NA&gt;</li><li>&lt;NA&gt;</li><li>&lt;NA&gt;</li><li>&lt;NA&gt;</li></ol>\n"
      ],
      "text/latex": [
       "\\begin{enumerate*}\n",
       "\\item 0.12214341530218\n",
       "\\item 0.098271208290316\n",
       "\\item 0.0724663926163836\n",
       "\\item 0.10740068509299\n",
       "\\item 0.115740008213396\n",
       "\\item 0.0957941373653642\n",
       "\\item 0.116064336460099\n",
       "\\item 0.0835804224330831\n",
       "\\item 0.0673537031959555\n",
       "\\item 0.133950457835154\n",
       "\\item 0.0890699678974118\n",
       "\\item 0.0640577425364951\n",
       "\\item 0.10356054968078\n",
       "\\item <NA>\n",
       "\\item <NA>\n",
       "\\item <NA>\n",
       "\\item <NA>\n",
       "\\item <NA>\n",
       "\\item <NA>\n",
       "\\item <NA>\n",
       "\\item <NA>\n",
       "\\item <NA>\n",
       "\\item <NA>\n",
       "\\item <NA>\n",
       "\\item <NA>\n",
       "\\item <NA>\n",
       "\\item <NA>\n",
       "\\item <NA>\n",
       "\\item <NA>\n",
       "\\item <NA>\n",
       "\\end{enumerate*}\n"
      ],
      "text/markdown": [
       "1. 0.12214341530218\n",
       "2. 0.098271208290316\n",
       "3. 0.0724663926163836\n",
       "4. 0.10740068509299\n",
       "5. 0.115740008213396\n",
       "6. 0.0957941373653642\n",
       "7. 0.116064336460099\n",
       "8. 0.0835804224330831\n",
       "9. 0.0673537031959555\n",
       "10. 0.133950457835154\n",
       "11. 0.0890699678974118\n",
       "12. 0.0640577425364951\n",
       "13. 0.10356054968078\n",
       "14. &lt;NA&gt;\n",
       "15. &lt;NA&gt;\n",
       "16. &lt;NA&gt;\n",
       "17. &lt;NA&gt;\n",
       "18. &lt;NA&gt;\n",
       "19. &lt;NA&gt;\n",
       "20. &lt;NA&gt;\n",
       "21. &lt;NA&gt;\n",
       "22. &lt;NA&gt;\n",
       "23. &lt;NA&gt;\n",
       "24. &lt;NA&gt;\n",
       "25. &lt;NA&gt;\n",
       "26. &lt;NA&gt;\n",
       "27. &lt;NA&gt;\n",
       "28. &lt;NA&gt;\n",
       "29. &lt;NA&gt;\n",
       "30. &lt;NA&gt;\n",
       "\n",
       "\n"
      ],
      "text/plain": [
       " [1] 0.12214342 0.09827121 0.07246639 0.10740069 0.11574001 0.09579414\n",
       " [7] 0.11606434 0.08358042 0.06735370 0.13395046 0.08906997 0.06405774\n",
       "[13] 0.10356055         NA         NA         NA         NA         NA\n",
       "[19]         NA         NA         NA         NA         NA         NA\n",
       "[25]         NA         NA         NA         NA         NA         NA"
      ]
     },
     "metadata": {},
     "output_type": "display_data"
    }
   ],
   "source": [
    "logit2prob2(race_city_arstmade)"
   ]
  },
  {
   "cell_type": "code",
   "execution_count": null,
   "metadata": {},
   "outputs": [],
   "source": []
  }
 ],
 "metadata": {
  "kernelspec": {
   "display_name": "R",
   "language": "R",
   "name": "ir"
  },
  "language_info": {
   "codemirror_mode": "r",
   "file_extension": ".r",
   "mimetype": "text/x-r-source",
   "name": "R",
   "pygments_lexer": "r",
   "version": "4.0.0"
  }
 },
 "nbformat": 4,
 "nbformat_minor": 4
}
